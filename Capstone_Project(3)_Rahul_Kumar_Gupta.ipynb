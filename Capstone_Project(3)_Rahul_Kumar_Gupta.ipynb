{
 "cells": [
  {
   "cell_type": "markdown",
   "metadata": {
    "id": "fZQ-Vw-TyfCx"
   },
   "source": [
    "#**Introduction**"
   ]
  },
  {
   "cell_type": "markdown",
   "metadata": {
    "id": "-cKP-aDcUQz3"
   },
   "source": [
    "I have been provided a HR dataset that contanins Gender(Male or Female), Business(person has Business or Not),\tDependancies(People dependent on person or Not),\tCalls(Authority to make call or Not), Type(Salary satatement type),\tBilling(Subscribed for billing or Not)\tRating(It has been given rating or not),\tAge\tSalary,\tBase_pay,\tBonus\tUnit_Price,\tVolume,\topeningbalance,\tclosingbalance,\tlow,\tUnit_Sales,\tTotal_Sales, Months and Education features. I am going to apply Data cleaning to clean the data, Exploratory Data Analysis for visulaization of dataset, Feature Engineering for converting categorical feature and Model creation for create, fit and predict data.\n",
    "\n"
   ]
  },
  {
   "cell_type": "markdown",
   "metadata": {
    "id": "Mk4iH7IVF1AL"
   },
   "source": [
    "#**Data Preprocessing**"
   ]
  },
  {
   "cell_type": "markdown",
   "metadata": {
    "id": "Xi8lECgHF5eA"
   },
   "source": [
    "##Import Libraries"
   ]
  },
  {
   "cell_type": "code",
   "execution_count": 1,
   "metadata": {
    "id": "T46F9H7W33PU"
   },
   "outputs": [],
   "source": [
    "import numpy as np\n",
    "import pandas as pd\n",
    "import matplotlib.pyplot as plt\n",
    "import seaborn as sns\n",
    "from sklearn.model_selection import train_test_split\n",
    "from sklearn.metrics import mean_squared_error,mean_absolute_error,r2_score,mean_squared_log_error\n",
    "from sklearn import metrics"
   ]
  },
  {
   "cell_type": "markdown",
   "metadata": {
    "id": "grqxiYRiF-Y1"
   },
   "source": [
    "##Import Dataset"
   ]
  },
  {
   "cell_type": "code",
   "execution_count": 2,
   "metadata": {
    "colab": {
     "base_uri": "https://localhost:8080/",
     "height": 444
    },
    "id": "v9HrubYE4F4o",
    "outputId": "d63be3c6-be58-40a8-89ef-2c2352aa192d"
   },
   "outputs": [
    {
     "data": {
      "text/html": [
       "<div>\n",
       "<style scoped>\n",
       "    .dataframe tbody tr th:only-of-type {\n",
       "        vertical-align: middle;\n",
       "    }\n",
       "\n",
       "    .dataframe tbody tr th {\n",
       "        vertical-align: top;\n",
       "    }\n",
       "\n",
       "    .dataframe thead th {\n",
       "        text-align: right;\n",
       "    }\n",
       "</style>\n",
       "<table border=\"1\" class=\"dataframe\">\n",
       "  <thead>\n",
       "    <tr style=\"text-align: right;\">\n",
       "      <th></th>\n",
       "      <th>0</th>\n",
       "      <th>1</th>\n",
       "      <th>2</th>\n",
       "      <th>3</th>\n",
       "      <th>4</th>\n",
       "      <th>5</th>\n",
       "      <th>6</th>\n",
       "      <th>7</th>\n",
       "      <th>8</th>\n",
       "      <th>9</th>\n",
       "    </tr>\n",
       "  </thead>\n",
       "  <tbody>\n",
       "    <tr>\n",
       "      <th>Gender</th>\n",
       "      <td>Female</td>\n",
       "      <td>Female</td>\n",
       "      <td>Male</td>\n",
       "      <td>Female</td>\n",
       "      <td>Male</td>\n",
       "      <td>Male</td>\n",
       "      <td>Male</td>\n",
       "      <td>Female</td>\n",
       "      <td>Female</td>\n",
       "      <td>Male</td>\n",
       "    </tr>\n",
       "    <tr>\n",
       "      <th>Business</th>\n",
       "      <td>0</td>\n",
       "      <td>0</td>\n",
       "      <td>0</td>\n",
       "      <td>1</td>\n",
       "      <td>0</td>\n",
       "      <td>0</td>\n",
       "      <td>0</td>\n",
       "      <td>0</td>\n",
       "      <td>1</td>\n",
       "      <td>0</td>\n",
       "    </tr>\n",
       "    <tr>\n",
       "      <th>Dependancies</th>\n",
       "      <td>No</td>\n",
       "      <td>No</td>\n",
       "      <td>No</td>\n",
       "      <td>No</td>\n",
       "      <td>No</td>\n",
       "      <td>No</td>\n",
       "      <td>Yes</td>\n",
       "      <td>No</td>\n",
       "      <td>No</td>\n",
       "      <td>No</td>\n",
       "    </tr>\n",
       "    <tr>\n",
       "      <th>Calls</th>\n",
       "      <td>Yes</td>\n",
       "      <td>Yes</td>\n",
       "      <td>Yes</td>\n",
       "      <td>Yes</td>\n",
       "      <td>Yes</td>\n",
       "      <td>Yes</td>\n",
       "      <td>No</td>\n",
       "      <td>Yes</td>\n",
       "      <td>Yes</td>\n",
       "      <td>Yes</td>\n",
       "    </tr>\n",
       "    <tr>\n",
       "      <th>Type</th>\n",
       "      <td>Month-to-month</td>\n",
       "      <td>Month-to-month</td>\n",
       "      <td>Month-to-month</td>\n",
       "      <td>Month-to-month</td>\n",
       "      <td>Month-to-month</td>\n",
       "      <td>Two year</td>\n",
       "      <td>Two year</td>\n",
       "      <td>One year</td>\n",
       "      <td>Month-to-month</td>\n",
       "      <td>Month-to-month</td>\n",
       "    </tr>\n",
       "    <tr>\n",
       "      <th>Billing</th>\n",
       "      <td>No</td>\n",
       "      <td>No</td>\n",
       "      <td>Yes</td>\n",
       "      <td>Yes</td>\n",
       "      <td>Yes</td>\n",
       "      <td>Yes</td>\n",
       "      <td>Yes</td>\n",
       "      <td>Yes</td>\n",
       "      <td>Yes</td>\n",
       "      <td>Yes</td>\n",
       "    </tr>\n",
       "    <tr>\n",
       "      <th>Rating</th>\n",
       "      <td>Yes</td>\n",
       "      <td>Yes</td>\n",
       "      <td>No</td>\n",
       "      <td>Yes</td>\n",
       "      <td>Yes</td>\n",
       "      <td>No</td>\n",
       "      <td>No</td>\n",
       "      <td>No</td>\n",
       "      <td>Yes</td>\n",
       "      <td>No</td>\n",
       "    </tr>\n",
       "    <tr>\n",
       "      <th>Age</th>\n",
       "      <td>18</td>\n",
       "      <td>19</td>\n",
       "      <td>22</td>\n",
       "      <td>21</td>\n",
       "      <td>23</td>\n",
       "      <td>23</td>\n",
       "      <td>23</td>\n",
       "      <td>24</td>\n",
       "      <td>24</td>\n",
       "      <td>43</td>\n",
       "    </tr>\n",
       "    <tr>\n",
       "      <th>Salary</th>\n",
       "      <td>5089</td>\n",
       "      <td>5698.12</td>\n",
       "      <td>5896.65</td>\n",
       "      <td>6125.12</td>\n",
       "      <td>6245</td>\n",
       "      <td>6444.23</td>\n",
       "      <td>6455.5</td>\n",
       "      <td>6458.36</td>\n",
       "      <td>6529.23</td>\n",
       "      <td>6682.33</td>\n",
       "    </tr>\n",
       "    <tr>\n",
       "      <th>Base_pay</th>\n",
       "      <td>2035.6</td>\n",
       "      <td>2279.25</td>\n",
       "      <td>2358.66</td>\n",
       "      <td>2450.05</td>\n",
       "      <td>2498</td>\n",
       "      <td>2577.69</td>\n",
       "      <td>2582.2</td>\n",
       "      <td>2583.34</td>\n",
       "      <td>2611.69</td>\n",
       "      <td>2672.93</td>\n",
       "    </tr>\n",
       "    <tr>\n",
       "      <th>Bonus</th>\n",
       "      <td>254.45</td>\n",
       "      <td>284.906</td>\n",
       "      <td>294.832</td>\n",
       "      <td>306.256</td>\n",
       "      <td>312.25</td>\n",
       "      <td>322.212</td>\n",
       "      <td>322.775</td>\n",
       "      <td>322.918</td>\n",
       "      <td>326.462</td>\n",
       "      <td>334.116</td>\n",
       "    </tr>\n",
       "    <tr>\n",
       "      <th>Unit_Price</th>\n",
       "      <td>3.77</td>\n",
       "      <td>3.74</td>\n",
       "      <td>3.89</td>\n",
       "      <td>4.35</td>\n",
       "      <td>4.34</td>\n",
       "      <td>4.37</td>\n",
       "      <td>4.42</td>\n",
       "      <td>4.44</td>\n",
       "      <td>4.45</td>\n",
       "      <td>4.41</td>\n",
       "    </tr>\n",
       "    <tr>\n",
       "      <th>Volume</th>\n",
       "      <td>21226600</td>\n",
       "      <td>10462800</td>\n",
       "      <td>18761000</td>\n",
       "      <td>66130600</td>\n",
       "      <td>26868200</td>\n",
       "      <td>29869600</td>\n",
       "      <td>25239200</td>\n",
       "      <td>28307500</td>\n",
       "      <td>24295600</td>\n",
       "      <td>17671600</td>\n",
       "    </tr>\n",
       "    <tr>\n",
       "      <th>openingbalance</th>\n",
       "      <td>3.75</td>\n",
       "      <td>3.85</td>\n",
       "      <td>4.23</td>\n",
       "      <td>4.26</td>\n",
       "      <td>4.79</td>\n",
       "      <td>5.88</td>\n",
       "      <td>6.0925</td>\n",
       "      <td>6.1</td>\n",
       "      <td>6.15</td>\n",
       "      <td>6.26</td>\n",
       "    </tr>\n",
       "    <tr>\n",
       "      <th>closingbalance</th>\n",
       "      <td>3.76</td>\n",
       "      <td>3.68</td>\n",
       "      <td>4.29</td>\n",
       "      <td>4.31</td>\n",
       "      <td>4.41</td>\n",
       "      <td>5.04</td>\n",
       "      <td>5.59</td>\n",
       "      <td>5.67</td>\n",
       "      <td>6.17</td>\n",
       "      <td>6.095</td>\n",
       "    </tr>\n",
       "    <tr>\n",
       "      <th>low</th>\n",
       "      <td>3.65</td>\n",
       "      <td>3.65</td>\n",
       "      <td>3.72</td>\n",
       "      <td>3.83</td>\n",
       "      <td>4.08</td>\n",
       "      <td>4.13</td>\n",
       "      <td>4.15</td>\n",
       "      <td>4.21</td>\n",
       "      <td>4.27</td>\n",
       "      <td>4.22</td>\n",
       "    </tr>\n",
       "    <tr>\n",
       "      <th>Unit_Sales</th>\n",
       "      <td>18.25</td>\n",
       "      <td>18.4</td>\n",
       "      <td>18.7</td>\n",
       "      <td>18.75</td>\n",
       "      <td>18.8</td>\n",
       "      <td>18.8</td>\n",
       "      <td>18.8</td>\n",
       "      <td>18.8</td>\n",
       "      <td>18.85</td>\n",
       "      <td>18.85</td>\n",
       "    </tr>\n",
       "    <tr>\n",
       "      <th>Total_Sales</th>\n",
       "      <td>18.8</td>\n",
       "      <td>18.85</td>\n",
       "      <td>18.9</td>\n",
       "      <td>19</td>\n",
       "      <td>19.05</td>\n",
       "      <td>19.1</td>\n",
       "      <td>19.1</td>\n",
       "      <td>19.15</td>\n",
       "      <td>19.2</td>\n",
       "      <td>19.2</td>\n",
       "    </tr>\n",
       "    <tr>\n",
       "      <th>Months</th>\n",
       "      <td>0</td>\n",
       "      <td>0</td>\n",
       "      <td>0</td>\n",
       "      <td>0</td>\n",
       "      <td>1</td>\n",
       "      <td>1</td>\n",
       "      <td>1</td>\n",
       "      <td>1</td>\n",
       "      <td>1</td>\n",
       "      <td>1</td>\n",
       "    </tr>\n",
       "    <tr>\n",
       "      <th>Education</th>\n",
       "      <td>High School or less</td>\n",
       "      <td>High School or less</td>\n",
       "      <td>High School or less</td>\n",
       "      <td>High School or less</td>\n",
       "      <td>High School or less</td>\n",
       "      <td>High School or less</td>\n",
       "      <td>High School or less</td>\n",
       "      <td>Intermediate</td>\n",
       "      <td>Intermediate</td>\n",
       "      <td>Intermediate</td>\n",
       "    </tr>\n",
       "  </tbody>\n",
       "</table>\n",
       "</div>"
      ],
      "text/plain": [
       "                                  0                    1                    2  \\\n",
       "Gender                       Female               Female                 Male   \n",
       "Business                          0                    0                    0   \n",
       "Dependancies                     No                   No                   No   \n",
       "Calls                           Yes                  Yes                  Yes   \n",
       "Type                 Month-to-month       Month-to-month       Month-to-month   \n",
       "Billing                          No                   No                  Yes   \n",
       "Rating                          Yes                  Yes                   No   \n",
       "Age                              18                   19                   22   \n",
       "Salary                         5089              5698.12              5896.65   \n",
       "Base_pay                     2035.6              2279.25              2358.66   \n",
       "Bonus                        254.45              284.906              294.832   \n",
       "Unit_Price                     3.77                 3.74                 3.89   \n",
       "Volume                     21226600             10462800             18761000   \n",
       "openingbalance                 3.75                 3.85                 4.23   \n",
       "closingbalance                 3.76                 3.68                 4.29   \n",
       "low                            3.65                 3.65                 3.72   \n",
       "Unit_Sales                    18.25                 18.4                 18.7   \n",
       "Total_Sales                    18.8                18.85                 18.9   \n",
       "Months                            0                    0                    0   \n",
       "Education       High School or less  High School or less  High School or less   \n",
       "\n",
       "                                  3                    4                    5  \\\n",
       "Gender                       Female                 Male                 Male   \n",
       "Business                          1                    0                    0   \n",
       "Dependancies                     No                   No                   No   \n",
       "Calls                           Yes                  Yes                  Yes   \n",
       "Type                 Month-to-month       Month-to-month             Two year   \n",
       "Billing                         Yes                  Yes                  Yes   \n",
       "Rating                          Yes                  Yes                   No   \n",
       "Age                              21                   23                   23   \n",
       "Salary                      6125.12                 6245              6444.23   \n",
       "Base_pay                    2450.05                 2498              2577.69   \n",
       "Bonus                       306.256               312.25              322.212   \n",
       "Unit_Price                     4.35                 4.34                 4.37   \n",
       "Volume                     66130600             26868200             29869600   \n",
       "openingbalance                 4.26                 4.79                 5.88   \n",
       "closingbalance                 4.31                 4.41                 5.04   \n",
       "low                            3.83                 4.08                 4.13   \n",
       "Unit_Sales                    18.75                 18.8                 18.8   \n",
       "Total_Sales                      19                19.05                 19.1   \n",
       "Months                            0                    1                    1   \n",
       "Education       High School or less  High School or less  High School or less   \n",
       "\n",
       "                                  6             7               8  \\\n",
       "Gender                         Male        Female          Female   \n",
       "Business                          0             0               1   \n",
       "Dependancies                    Yes            No              No   \n",
       "Calls                            No           Yes             Yes   \n",
       "Type                       Two year      One year  Month-to-month   \n",
       "Billing                         Yes           Yes             Yes   \n",
       "Rating                           No            No             Yes   \n",
       "Age                              23            24              24   \n",
       "Salary                       6455.5       6458.36         6529.23   \n",
       "Base_pay                     2582.2       2583.34         2611.69   \n",
       "Bonus                       322.775       322.918         326.462   \n",
       "Unit_Price                     4.42          4.44            4.45   \n",
       "Volume                     25239200      28307500        24295600   \n",
       "openingbalance               6.0925           6.1            6.15   \n",
       "closingbalance                 5.59          5.67            6.17   \n",
       "low                            4.15          4.21            4.27   \n",
       "Unit_Sales                     18.8          18.8           18.85   \n",
       "Total_Sales                    19.1         19.15            19.2   \n",
       "Months                            1             1               1   \n",
       "Education       High School or less  Intermediate    Intermediate   \n",
       "\n",
       "                             9  \n",
       "Gender                    Male  \n",
       "Business                     0  \n",
       "Dependancies                No  \n",
       "Calls                      Yes  \n",
       "Type            Month-to-month  \n",
       "Billing                    Yes  \n",
       "Rating                      No  \n",
       "Age                         43  \n",
       "Salary                 6682.33  \n",
       "Base_pay               2672.93  \n",
       "Bonus                  334.116  \n",
       "Unit_Price                4.41  \n",
       "Volume                17671600  \n",
       "openingbalance            6.26  \n",
       "closingbalance           6.095  \n",
       "low                       4.22  \n",
       "Unit_Sales               18.85  \n",
       "Total_Sales               19.2  \n",
       "Months                       1  \n",
       "Education         Intermediate  "
      ]
     },
     "execution_count": 2,
     "metadata": {},
     "output_type": "execute_result"
    }
   ],
   "source": [
    "df = pd.read_csv('New_data_Set.csv')\n",
    "df.head(10).transpose()"
   ]
  },
  {
   "cell_type": "markdown",
   "metadata": {
    "id": "1BzFV5cUGBAK"
   },
   "source": [
    "##check shape of dataset\n",
    "\n"
   ]
  },
  {
   "cell_type": "code",
   "execution_count": 3,
   "metadata": {
    "colab": {
     "base_uri": "https://localhost:8080/"
    },
    "id": "-cNLKV7N4nnk",
    "outputId": "a16fa2bb-acae-434f-f6ba-9facfe03b75f"
   },
   "outputs": [
    {
     "data": {
      "text/plain": [
       "(5000, 20)"
      ]
     },
     "execution_count": 3,
     "metadata": {},
     "output_type": "execute_result"
    }
   ],
   "source": [
    "df.shape"
   ]
  },
  {
   "cell_type": "markdown",
   "metadata": {
    "id": "vCqq6-X0dPLz"
   },
   "source": [
    "In given dataset there are 5000 rows and 20 columns"
   ]
  },
  {
   "cell_type": "markdown",
   "metadata": {
    "id": "I2jZ1p7TGDRk"
   },
   "source": [
    "##Information of dataset\n",
    "\n"
   ]
  },
  {
   "cell_type": "code",
   "execution_count": 4,
   "metadata": {
    "colab": {
     "base_uri": "https://localhost:8080/"
    },
    "id": "R_EOqDKw7N74",
    "outputId": "0e371d63-abbb-46db-e5f7-7c2835fce9dd"
   },
   "outputs": [
    {
     "name": "stdout",
     "output_type": "stream",
     "text": [
      "<class 'pandas.core.frame.DataFrame'>\n",
      "RangeIndex: 5000 entries, 0 to 4999\n",
      "Data columns (total 20 columns):\n",
      " #   Column          Non-Null Count  Dtype  \n",
      "---  ------          --------------  -----  \n",
      " 0   Gender          5000 non-null   object \n",
      " 1   Business        5000 non-null   int64  \n",
      " 2   Dependancies    5000 non-null   object \n",
      " 3   Calls           5000 non-null   object \n",
      " 4   Type            5000 non-null   object \n",
      " 5   Billing         5000 non-null   object \n",
      " 6   Rating          5000 non-null   object \n",
      " 7   Age             5000 non-null   int64  \n",
      " 8   Salary          5000 non-null   float64\n",
      " 9   Base_pay        4977 non-null   float64\n",
      " 10  Bonus           5000 non-null   float64\n",
      " 11  Unit_Price      5000 non-null   float64\n",
      " 12  Volume          5000 non-null   int64  \n",
      " 13  openingbalance  3524 non-null   float64\n",
      " 14  closingbalance  5000 non-null   float64\n",
      " 15  low             5000 non-null   float64\n",
      " 16  Unit_Sales      5000 non-null   float64\n",
      " 17  Total_Sales     4992 non-null   object \n",
      " 18  Months          5000 non-null   int64  \n",
      " 19  Education       5000 non-null   object \n",
      "dtypes: float64(8), int64(4), object(8)\n",
      "memory usage: 781.4+ KB\n"
     ]
    }
   ],
   "source": [
    "df.info()"
   ]
  },
  {
   "cell_type": "markdown",
   "metadata": {
    "id": "f-0H09aIdcBQ"
   },
   "source": [
    "Here we check information of dataset such data types and NaN values"
   ]
  },
  {
   "cell_type": "markdown",
   "metadata": {
    "id": "WuNBpdfqGGNc"
   },
   "source": [
    "##Describe the dataset\n",
    "\n",
    "\n"
   ]
  },
  {
   "cell_type": "code",
   "execution_count": 5,
   "metadata": {
    "colab": {
     "base_uri": "https://localhost:8080/",
     "height": 364
    },
    "id": "84LCeXDE7hPC",
    "outputId": "c9c39919-3174-4423-a786-0371d6a17184"
   },
   "outputs": [
    {
     "data": {
      "text/html": [
       "<div>\n",
       "<style scoped>\n",
       "    .dataframe tbody tr th:only-of-type {\n",
       "        vertical-align: middle;\n",
       "    }\n",
       "\n",
       "    .dataframe tbody tr th {\n",
       "        vertical-align: top;\n",
       "    }\n",
       "\n",
       "    .dataframe thead th {\n",
       "        text-align: right;\n",
       "    }\n",
       "</style>\n",
       "<table border=\"1\" class=\"dataframe\">\n",
       "  <thead>\n",
       "    <tr style=\"text-align: right;\">\n",
       "      <th></th>\n",
       "      <th>Business</th>\n",
       "      <th>Age</th>\n",
       "      <th>Salary</th>\n",
       "      <th>Base_pay</th>\n",
       "      <th>Bonus</th>\n",
       "      <th>Unit_Price</th>\n",
       "      <th>Volume</th>\n",
       "      <th>openingbalance</th>\n",
       "      <th>closingbalance</th>\n",
       "      <th>low</th>\n",
       "      <th>Unit_Sales</th>\n",
       "      <th>Months</th>\n",
       "    </tr>\n",
       "  </thead>\n",
       "  <tbody>\n",
       "    <tr>\n",
       "      <th>count</th>\n",
       "      <td>5000.000000</td>\n",
       "      <td>5000.000000</td>\n",
       "      <td>5000.000000</td>\n",
       "      <td>4977.000000</td>\n",
       "      <td>5000.000000</td>\n",
       "      <td>5000.000000</td>\n",
       "      <td>5.000000e+03</td>\n",
       "      <td>3524.000000</td>\n",
       "      <td>5000.000000</td>\n",
       "      <td>5000.000000</td>\n",
       "      <td>5000.00000</td>\n",
       "      <td>5000.00000</td>\n",
       "    </tr>\n",
       "    <tr>\n",
       "      <th>mean</th>\n",
       "      <td>0.160000</td>\n",
       "      <td>51.865000</td>\n",
       "      <td>99821.928553</td>\n",
       "      <td>40046.187707</td>\n",
       "      <td>4991.096428</td>\n",
       "      <td>51.258522</td>\n",
       "      <td>6.761260e+06</td>\n",
       "      <td>43.922020</td>\n",
       "      <td>43.577828</td>\n",
       "      <td>43.034129</td>\n",
       "      <td>64.84151</td>\n",
       "      <td>32.18480</td>\n",
       "    </tr>\n",
       "    <tr>\n",
       "      <th>std</th>\n",
       "      <td>0.366643</td>\n",
       "      <td>8.560691</td>\n",
       "      <td>25376.961744</td>\n",
       "      <td>10135.686075</td>\n",
       "      <td>1268.848087</td>\n",
       "      <td>52.244022</td>\n",
       "      <td>1.620476e+07</td>\n",
       "      <td>38.361497</td>\n",
       "      <td>37.148512</td>\n",
       "      <td>36.760641</td>\n",
       "      <td>30.13968</td>\n",
       "      <td>24.63673</td>\n",
       "    </tr>\n",
       "    <tr>\n",
       "      <th>min</th>\n",
       "      <td>0.000000</td>\n",
       "      <td>18.000000</td>\n",
       "      <td>5089.000000</td>\n",
       "      <td>2035.600000</td>\n",
       "      <td>254.450000</td>\n",
       "      <td>1.440000</td>\n",
       "      <td>0.000000e+00</td>\n",
       "      <td>3.680000</td>\n",
       "      <td>3.680000</td>\n",
       "      <td>3.650000</td>\n",
       "      <td>18.25000</td>\n",
       "      <td>0.00000</td>\n",
       "    </tr>\n",
       "    <tr>\n",
       "      <th>25%</th>\n",
       "      <td>0.000000</td>\n",
       "      <td>47.000000</td>\n",
       "      <td>83890.338980</td>\n",
       "      <td>33720.552420</td>\n",
       "      <td>4194.516950</td>\n",
       "      <td>25.727500</td>\n",
       "      <td>1.283850e+06</td>\n",
       "      <td>22.098750</td>\n",
       "      <td>21.990000</td>\n",
       "      <td>21.718750</td>\n",
       "      <td>35.50000</td>\n",
       "      <td>8.00000</td>\n",
       "    </tr>\n",
       "    <tr>\n",
       "      <th>50%</th>\n",
       "      <td>0.000000</td>\n",
       "      <td>52.000000</td>\n",
       "      <td>100579.378500</td>\n",
       "      <td>40282.016040</td>\n",
       "      <td>5028.968925</td>\n",
       "      <td>39.205000</td>\n",
       "      <td>2.870600e+06</td>\n",
       "      <td>33.119999</td>\n",
       "      <td>33.340000</td>\n",
       "      <td>32.880001</td>\n",
       "      <td>70.50000</td>\n",
       "      <td>28.00000</td>\n",
       "    </tr>\n",
       "    <tr>\n",
       "      <th>75%</th>\n",
       "      <td>0.000000</td>\n",
       "      <td>57.000000</td>\n",
       "      <td>116912.092475</td>\n",
       "      <td>46792.232410</td>\n",
       "      <td>5845.604624</td>\n",
       "      <td>58.715000</td>\n",
       "      <td>6.247100e+06</td>\n",
       "      <td>51.421839</td>\n",
       "      <td>51.117500</td>\n",
       "      <td>50.415000</td>\n",
       "      <td>89.95000</td>\n",
       "      <td>55.00000</td>\n",
       "    </tr>\n",
       "    <tr>\n",
       "      <th>max</th>\n",
       "      <td>1.000000</td>\n",
       "      <td>88.000000</td>\n",
       "      <td>199970.740000</td>\n",
       "      <td>79988.296000</td>\n",
       "      <td>9998.537000</td>\n",
       "      <td>629.511067</td>\n",
       "      <td>3.208684e+08</td>\n",
       "      <td>313.903904</td>\n",
       "      <td>313.688694</td>\n",
       "      <td>312.432438</td>\n",
       "      <td>118.75000</td>\n",
       "      <td>72.00000</td>\n",
       "    </tr>\n",
       "  </tbody>\n",
       "</table>\n",
       "</div>"
      ],
      "text/plain": [
       "          Business          Age         Salary      Base_pay        Bonus  \\\n",
       "count  5000.000000  5000.000000    5000.000000   4977.000000  5000.000000   \n",
       "mean      0.160000    51.865000   99821.928553  40046.187707  4991.096428   \n",
       "std       0.366643     8.560691   25376.961744  10135.686075  1268.848087   \n",
       "min       0.000000    18.000000    5089.000000   2035.600000   254.450000   \n",
       "25%       0.000000    47.000000   83890.338980  33720.552420  4194.516950   \n",
       "50%       0.000000    52.000000  100579.378500  40282.016040  5028.968925   \n",
       "75%       0.000000    57.000000  116912.092475  46792.232410  5845.604624   \n",
       "max       1.000000    88.000000  199970.740000  79988.296000  9998.537000   \n",
       "\n",
       "        Unit_Price        Volume  openingbalance  closingbalance          low  \\\n",
       "count  5000.000000  5.000000e+03     3524.000000     5000.000000  5000.000000   \n",
       "mean     51.258522  6.761260e+06       43.922020       43.577828    43.034129   \n",
       "std      52.244022  1.620476e+07       38.361497       37.148512    36.760641   \n",
       "min       1.440000  0.000000e+00        3.680000        3.680000     3.650000   \n",
       "25%      25.727500  1.283850e+06       22.098750       21.990000    21.718750   \n",
       "50%      39.205000  2.870600e+06       33.119999       33.340000    32.880001   \n",
       "75%      58.715000  6.247100e+06       51.421839       51.117500    50.415000   \n",
       "max     629.511067  3.208684e+08      313.903904      313.688694   312.432438   \n",
       "\n",
       "       Unit_Sales      Months  \n",
       "count  5000.00000  5000.00000  \n",
       "mean     64.84151    32.18480  \n",
       "std      30.13968    24.63673  \n",
       "min      18.25000     0.00000  \n",
       "25%      35.50000     8.00000  \n",
       "50%      70.50000    28.00000  \n",
       "75%      89.95000    55.00000  \n",
       "max     118.75000    72.00000  "
      ]
     },
     "execution_count": 5,
     "metadata": {},
     "output_type": "execute_result"
    }
   ],
   "source": [
    "df.describe()"
   ]
  },
  {
   "cell_type": "markdown",
   "metadata": {
    "id": "aFHakp1adgSh"
   },
   "source": [
    "describe() describes min, max, mean, count, etc values of individual continous feature."
   ]
  },
  {
   "cell_type": "markdown",
   "metadata": {
    "id": "BDtE7MzcGI2T"
   },
   "source": [
    "##Print Column names\n",
    "\n"
   ]
  },
  {
   "cell_type": "code",
   "execution_count": 6,
   "metadata": {
    "colab": {
     "base_uri": "https://localhost:8080/"
    },
    "id": "8VPYo1Xz7p4b",
    "outputId": "f4228de9-76ee-45aa-fe71-da0b3a601687"
   },
   "outputs": [
    {
     "data": {
      "text/plain": [
       "Index(['Gender', 'Business', 'Dependancies', 'Calls', 'Type', 'Billing',\n",
       "       'Rating', 'Age', 'Salary', 'Base_pay', 'Bonus', 'Unit_Price', 'Volume',\n",
       "       'openingbalance', 'closingbalance', 'low', 'Unit_Sales', 'Total_Sales',\n",
       "       'Months', 'Education'],\n",
       "      dtype='object')"
      ]
     },
     "execution_count": 6,
     "metadata": {},
     "output_type": "execute_result"
    }
   ],
   "source": [
    "df.columns"
   ]
  },
  {
   "cell_type": "markdown",
   "metadata": {
    "id": "-CQEQ2M2dkPg"
   },
   "source": [
    " show all the columns name of the given dataset"
   ]
  },
  {
   "cell_type": "markdown",
   "metadata": {
    "id": "YvriR8cfGOG_"
   },
   "source": [
    "##Check NaN value\n",
    "\n"
   ]
  },
  {
   "cell_type": "code",
   "execution_count": 7,
   "metadata": {
    "colab": {
     "base_uri": "https://localhost:8080/"
    },
    "id": "7QxaMe_A72PB",
    "outputId": "46cb7ebd-73a8-4b46-b57d-94a4e2ebbab9"
   },
   "outputs": [
    {
     "data": {
      "text/plain": [
       "Gender               0\n",
       "Business             0\n",
       "Dependancies         0\n",
       "Calls                0\n",
       "Type                 0\n",
       "Billing              0\n",
       "Rating               0\n",
       "Age                  0\n",
       "Salary               0\n",
       "Base_pay            23\n",
       "Bonus                0\n",
       "Unit_Price           0\n",
       "Volume               0\n",
       "openingbalance    1476\n",
       "closingbalance       0\n",
       "low                  0\n",
       "Unit_Sales           0\n",
       "Total_Sales          8\n",
       "Months               0\n",
       "Education            0\n",
       "dtype: int64"
      ]
     },
     "execution_count": 7,
     "metadata": {},
     "output_type": "execute_result"
    }
   ],
   "source": [
    "df.isna().sum()"
   ]
  },
  {
   "cell_type": "markdown",
   "metadata": {
    "id": "ERUBLh9pdwI4"
   },
   "source": [
    "By checking nan value we found that few features have nan value scuh as Base_pay has 23 nan value, openingbalance has 1476 nan value and Total_Sales has 8 nan value"
   ]
  },
  {
   "cell_type": "markdown",
   "metadata": {
    "id": "f8xrM9lRGVl6"
   },
   "source": [
    "##Convert Total_Sales string into numeric form\n",
    "\n"
   ]
  },
  {
   "cell_type": "code",
   "execution_count": 8,
   "metadata": {
    "id": "_uiXMz1iEGzB"
   },
   "outputs": [],
   "source": [
    "df[\"Total_Sales\"] = pd.to_numeric(df[\"Total_Sales\"] ,errors='coerce')"
   ]
  },
  {
   "cell_type": "markdown",
   "metadata": {
    "id": "hdwXTW9WeNvK"
   },
   "source": [
    "In given dataset, Total_Sales feature is string datatype so, for filing nan value first convert it into numneric for or int datatype"
   ]
  },
  {
   "cell_type": "markdown",
   "metadata": {
    "id": "9tFUDCz_GdSm"
   },
   "source": [
    "##Fill nan value\n",
    "\n",
    "For filling all nan value first check the types of the skewed distribution."
   ]
  },
  {
   "cell_type": "markdown",
   "metadata": {
    "id": "NOH9FuPPgNqj"
   },
   "source": [
    "##Fill Base_Pay Feature"
   ]
  },
  {
   "cell_type": "code",
   "execution_count": 9,
   "metadata": {
    "colab": {
     "base_uri": "https://localhost:8080/",
     "height": 363
    },
    "id": "_uxA7gw8gOVl",
    "outputId": "2344db81-5f1a-4e68-e75e-82e0c7e11795"
   },
   "outputs": [
    {
     "name": "stderr",
     "output_type": "stream",
     "text": [
      "C:\\Users\\rahul\\anaconda3\\lib\\site-packages\\seaborn\\distributions.py:2551: FutureWarning: `distplot` is a deprecated function and will be removed in a future version. Please adapt your code to use either `displot` (a figure-level function with similar flexibility) or `histplot` (an axes-level function for histograms).\n",
      "  warnings.warn(msg, FutureWarning)\n"
     ]
    },
    {
     "data": {
      "text/plain": [
       "<AxesSubplot:xlabel='Base_pay', ylabel='Density'>"
      ]
     },
     "execution_count": 9,
     "metadata": {},
     "output_type": "execute_result"
    },
    {
     "data": {
      "image/png": "[encoded data removed]",
      "text/plain": [
       "<Figure size 432x288 with 1 Axes>"
      ]
     },
     "metadata": {
      "needs_background": "light"
     },
     "output_type": "display_data"
    }
   ],
   "source": [
    "sns.distplot(df.Base_pay)"
   ]
  },
  {
   "cell_type": "code",
   "execution_count": 10,
   "metadata": {
    "id": "-mMmw__PncFW"
   },
   "outputs": [],
   "source": [
    "df['Base_pay']=df['Base_pay'].fillna(df['Base_pay'].mean())"
   ]
  },
  {
   "cell_type": "markdown",
   "metadata": {
    "id": "0zMbGkwXgZ6d"
   },
   "source": [
    "From above graph, i found that it is bell curved shaped.(\"The bell curve is perfectly symmetrical. It is concentrated around the peak and decreases on either side.\"). In this case mean, median and more are same, so the mean is often the preferred."
   ]
  },
  {
   "cell_type": "markdown",
   "metadata": {
    "id": "bdglHnZ5kKHg"
   },
   "source": [
    "##Fill Total_Sales feature"
   ]
  },
  {
   "cell_type": "code",
   "execution_count": 11,
   "metadata": {
    "colab": {
     "base_uri": "https://localhost:8080/",
     "height": 355
    },
    "id": "W_I6PuoKkQH5",
    "outputId": "591d0c42-3fb8-478d-9b13-18fb4ae749c2"
   },
   "outputs": [
    {
     "name": "stderr",
     "output_type": "stream",
     "text": [
      "C:\\Users\\rahul\\anaconda3\\lib\\site-packages\\seaborn\\distributions.py:2551: FutureWarning: `distplot` is a deprecated function and will be removed in a future version. Please adapt your code to use either `displot` (a figure-level function with similar flexibility) or `histplot` (an axes-level function for histograms).\n",
      "  warnings.warn(msg, FutureWarning)\n"
     ]
    },
    {
     "data": {
      "text/plain": [
       "<AxesSubplot:xlabel='Total_Sales', ylabel='Density'>"
      ]
     },
     "execution_count": 11,
     "metadata": {},
     "output_type": "execute_result"
    },
    {
     "data": {
      "image/png": "[encoded data removed]",
      "text/plain": [
       "<Figure size 432x288 with 1 Axes>"
      ]
     },
     "metadata": {
      "needs_background": "light"
     },
     "output_type": "display_data"
    }
   ],
   "source": [
    "sns.distplot(df.Total_Sales)"
   ]
  },
  {
   "cell_type": "code",
   "execution_count": 12,
   "metadata": {
    "id": "Bgvr1mqXnh06"
   },
   "outputs": [],
   "source": [
    "df['Total_Sales']=df['Total_Sales'].fillna(df['Total_Sales'].median())"
   ]
  },
  {
   "cell_type": "markdown",
   "metadata": {
    "id": "VVmRbmAskW_K"
   },
   "source": [
    "From the above graph I found that it is the right skewed distribution.(\"A right-skewed distribution has a long right tail and also called positive skeweness.  That’s because there is a long tail in the positive direction on the number line.\"). In this case the median is usually preferred because, the median is more resistant to outliers than the mean and mode."
   ]
  },
  {
   "cell_type": "markdown",
   "metadata": {
    "id": "WQdfCmsqm72B"
   },
   "source": [
    "##Fill openingbalance feature"
   ]
  },
  {
   "cell_type": "code",
   "execution_count": 13,
   "metadata": {
    "colab": {
     "base_uri": "https://localhost:8080/",
     "height": 351
    },
    "id": "AJJKpoJQnGcK",
    "outputId": "fdbc4d0a-1acb-4992-ceb2-1e0f0646c66e"
   },
   "outputs": [
    {
     "name": "stderr",
     "output_type": "stream",
     "text": [
      "C:\\Users\\rahul\\anaconda3\\lib\\site-packages\\seaborn\\distributions.py:2551: FutureWarning: `distplot` is a deprecated function and will be removed in a future version. Please adapt your code to use either `displot` (a figure-level function with similar flexibility) or `histplot` (an axes-level function for histograms).\n",
      "  warnings.warn(msg, FutureWarning)\n"
     ]
    },
    {
     "data": {
      "text/plain": [
       "<AxesSubplot:xlabel='openingbalance', ylabel='Density'>"
      ]
     },
     "execution_count": 13,
     "metadata": {},
     "output_type": "execute_result"
    },
    {
     "data": {
      "image/png": "[encoded data removed]",
      "text/plain": [
       "<Figure size 432x288 with 1 Axes>"
      ]
     },
     "metadata": {
      "needs_background": "light"
     },
     "output_type": "display_data"
    }
   ],
   "source": [
    "sns.distplot(df.openingbalance)"
   ]
  },
  {
   "cell_type": "code",
   "execution_count": 14,
   "metadata": {
    "id": "UFW9loYhnk2t"
   },
   "outputs": [],
   "source": [
    "df['openingbalance']=df['openingbalance'].fillna(df['openingbalance'].median())"
   ]
  },
  {
   "cell_type": "markdown",
   "metadata": {
    "id": "bz8xjtuYnOzz"
   },
   "source": [
    "From the above graph I found that it is the right skewed distribution.(\"A right-skewed distribution has a long right tail and also called positive skeweness. That’s because there is a long tail in the positive direction on the number line.\"). In this case the median is usually preferred because, the median is more resistant to outliers than the mean and mode."
   ]
  },
  {
   "cell_type": "markdown",
   "metadata": {
    "id": "cFM1ZX-xGf3M"
   },
   "source": [
    "##After fill nan value check again nan value\n",
    "\n"
   ]
  },
  {
   "cell_type": "code",
   "execution_count": 15,
   "metadata": {
    "colab": {
     "base_uri": "https://localhost:8080/"
    },
    "id": "3lx07KXDFggx",
    "outputId": "a77eded7-b2ee-467b-dd26-b6e687338dfa"
   },
   "outputs": [
    {
     "data": {
      "text/plain": [
       "Gender            0\n",
       "Business          0\n",
       "Dependancies      0\n",
       "Calls             0\n",
       "Type              0\n",
       "Billing           0\n",
       "Rating            0\n",
       "Age               0\n",
       "Salary            0\n",
       "Base_pay          0\n",
       "Bonus             0\n",
       "Unit_Price        0\n",
       "Volume            0\n",
       "openingbalance    0\n",
       "closingbalance    0\n",
       "low               0\n",
       "Unit_Sales        0\n",
       "Total_Sales       0\n",
       "Months            0\n",
       "Education         0\n",
       "dtype: int64"
      ]
     },
     "execution_count": 15,
     "metadata": {},
     "output_type": "execute_result"
    }
   ],
   "source": [
    "df.isna().sum()"
   ]
  },
  {
   "cell_type": "markdown",
   "metadata": {
    "id": "_rMrspdtntHv"
   },
   "source": [
    "After fill all nan value again check or confirm that there are no more nan value present in dataset."
   ]
  },
  {
   "cell_type": "markdown",
   "metadata": {
    "id": "p83PgwDJNoVL"
   },
   "source": [
    "#**Exploratory Data Analysis**\n",
    "\n",
    "\n",
    "In data mining, Exploratory Data Analysis (EDA) is an approach to analyzing datasets to summarize their main characteristics, often with visual methods. EDA is used for seeing what the data can tell us before the modeling task. It is not easy to look at a column of numbers or a whole spreadsheet and determine important characteristics of the data. It may be boring, and/or overwhelming to derive insights by looking at plain numbers. "
   ]
  },
  {
   "cell_type": "markdown",
   "metadata": {
    "id": "YhdgDR9zlosG"
   },
   "source": [
    "##Gender Feature\n",
    "\n",
    "\n"
   ]
  },
  {
   "cell_type": "code",
   "execution_count": 16,
   "metadata": {
    "colab": {
     "base_uri": "https://localhost:8080/",
     "height": 702
    },
    "id": "WjOiwt9W-G1U",
    "outputId": "6c6f62f0-6f79-4100-e3a7-15efc1ba97c3"
   },
   "outputs": [
    {
     "name": "stdout",
     "output_type": "stream",
     "text": [
      "Male      2528\n",
      "Female    2472\n",
      "Name: Gender, dtype: int64\n",
      "\n"
     ]
    },
    {
     "name": "stderr",
     "output_type": "stream",
     "text": [
      "<ipython-input-16-380653963712>:5: UserWarning: Matplotlib is currently using module://ipykernel.pylab.backend_inline, which is a non-GUI backend, so cannot show the figure.\n",
      "  f.show()\n",
      "<ipython-input-16-380653963712>:8: UserWarning: Matplotlib is currently using module://ipykernel.pylab.backend_inline, which is a non-GUI backend, so cannot show the figure.\n",
      "  f1.show()\n"
     ]
    },
    {
     "data": {
      "image/png": "[encoded data removed]",
      "text/plain": [
       "<Figure size 360x360 with 1 Axes>"
      ]
     },
     "metadata": {
      "needs_background": "light"
     },
     "output_type": "display_data"
    },
    {
     "data": {
      "image/png": "[encoded data removed]",
      "text/plain": [
       "<Figure size 360x360 with 1 Axes>"
      ]
     },
     "metadata": {},
     "output_type": "display_data"
    }
   ],
   "source": [
    "print(df.Gender.value_counts())\n",
    "print()\n",
    "f = plt.figure(figsize = (5,5))\n",
    "df['Gender'].value_counts().plot(kind=\"bar\",color=[\"red\",\"blue\"])\n",
    "f.show()\n",
    "f1 = plt.figure(figsize = (5,5))\n",
    "df['Gender'].value_counts().plot(kind=\"pie\", autopct=\"%.2f\")\n",
    "f1.show()"
   ]
  },
  {
   "cell_type": "markdown",
   "metadata": {
    "id": "uZYW2Wdmn-60"
   },
   "source": [
    "First count the categories of Gender feature i.e 2528 or 50.56%  **\"Male\"** values and 2472 or 49.44%  **\"Female\"** values. Then plot a graph in numerical bar and pie chart."
   ]
  },
  {
   "cell_type": "markdown",
   "metadata": {
    "id": "9zoZGKZJmrsJ"
   },
   "source": [
    "##Business Feature\n",
    "\n",
    "\n"
   ]
  },
  {
   "cell_type": "code",
   "execution_count": 17,
   "metadata": {
    "colab": {
     "base_uri": "https://localhost:8080/",
     "height": 702
    },
    "id": "bZo6Sx8n-0Ie",
    "outputId": "496ae6fb-67d1-4283-b21a-3575c0c993aa"
   },
   "outputs": [
    {
     "name": "stdout",
     "output_type": "stream",
     "text": [
      "0    4200\n",
      "1     800\n",
      "Name: Business, dtype: int64\n",
      "0 = NoN Business\n",
      "1 = Business\n"
     ]
    },
    {
     "name": "stderr",
     "output_type": "stream",
     "text": [
      "<ipython-input-17-14fca052cfc4>:4: UserWarning: Matplotlib is currently using module://ipykernel.pylab.backend_inline, which is a non-GUI backend, so cannot show the figure.\n",
      "  f.show()\n",
      "<ipython-input-17-14fca052cfc4>:10: UserWarning: Matplotlib is currently using module://ipykernel.pylab.backend_inline, which is a non-GUI backend, so cannot show the figure.\n",
      "  f1.show()\n"
     ]
    },
    {
     "data": {
      "image/png": "[encoded data removed]",
      "text/plain": [
       "<Figure size 360x360 with 1 Axes>"
      ]
     },
     "metadata": {
      "needs_background": "light"
     },
     "output_type": "display_data"
    },
    {
     "data": {
      "image/png": "[encoded data removed]",
      "text/plain": [
       "<Figure size 360x360 with 1 Axes>"
      ]
     },
     "metadata": {},
     "output_type": "display_data"
    }
   ],
   "source": [
    "print(df[\"Business\"].value_counts())\n",
    "f = plt.figure(figsize = (5,5))\n",
    "df['Business'].value_counts().plot(kind=\"bar\",color=[\"red\",\"blue\"])\n",
    "f.show()\n",
    "print(\"0 = NoN Business\")\n",
    "print(\"1 = Business\")\n",
    "plt.xlabel(\"No. Of Business and NoN Business\")\n",
    "f1 = plt.figure(figsize = (5,5))\n",
    "df['Business'].value_counts().plot(kind=\"pie\", autopct=\"%.2f\")\n",
    "f1.show()"
   ]
  },
  {
   "cell_type": "markdown",
   "metadata": {
    "id": "Bt7iaRGBoY21"
   },
   "source": [
    "First count the categories value Business feature i.e 4200 or 84% contains 0 values which means **\"Non-Business\" Man** and 800 or 16% contains 1 which means **\"Business Man\"**.Then plot a garph numerical bar and pie chart"
   ]
  },
  {
   "cell_type": "markdown",
   "metadata": {
    "id": "rrP-Godam1Mh"
   },
   "source": [
    "##Dependancies Feature\n",
    "\n",
    "\n"
   ]
  },
  {
   "cell_type": "code",
   "execution_count": 18,
   "metadata": {
    "colab": {
     "base_uri": "https://localhost:8080/",
     "height": 682
    },
    "id": "UywdI7wrFzNg",
    "outputId": "e638db7c-c470-4954-afc6-6ded741ac553"
   },
   "outputs": [
    {
     "name": "stdout",
     "output_type": "stream",
     "text": [
      "No     3524\n",
      "Yes    1476\n",
      "Name: Dependancies, dtype: int64\n",
      "\n"
     ]
    },
    {
     "name": "stderr",
     "output_type": "stream",
     "text": [
      "<ipython-input-18-4f09eabd1f6e>:5: UserWarning: Matplotlib is currently using module://ipykernel.pylab.backend_inline, which is a non-GUI backend, so cannot show the figure.\n",
      "  f.show()\n",
      "<ipython-input-18-4f09eabd1f6e>:8: UserWarning: Matplotlib is currently using module://ipykernel.pylab.backend_inline, which is a non-GUI backend, so cannot show the figure.\n",
      "  f1.show()\n"
     ]
    },
    {
     "data": {
      "image/png": "[encoded data removed]",
      "text/plain": [
       "<Figure size 360x360 with 1 Axes>"
      ]
     },
     "metadata": {
      "needs_background": "light"
     },
     "output_type": "display_data"
    },
    {
     "data": {
      "image/png": "[encoded data removed]",
      "text/plain": [
       "<Figure size 360x360 with 1 Axes>"
      ]
     },
     "metadata": {},
     "output_type": "display_data"
    }
   ],
   "source": [
    "print(df.Dependancies.value_counts())\n",
    "print()\n",
    "f = plt.figure(figsize = (5,5))\n",
    "df['Dependancies'].value_counts().plot(kind=\"bar\",color=[\"red\",\"blue\"])\n",
    "f.show()\n",
    "f1 = plt.figure(figsize = (5,5))\n",
    "df['Dependancies'].value_counts().plot(kind=\"pie\", autopct=\"%.2f\")\n",
    "f1.show()"
   ]
  },
  {
   "cell_type": "markdown",
   "metadata": {
    "id": "T6mKyoxroc4X"
   },
   "source": [
    "First count the categories of Dependancies feature i.e 3524 or 70.48% No values which means **\"No people dependent on the person\"** and 1476 or 29.52% Yes values which means **\"people dependent on the person\"**. Then plot a graph in numerical bar and pie chart."
   ]
  },
  {
   "cell_type": "markdown",
   "metadata": {
    "id": "B_reEb7km5VW"
   },
   "source": [
    "##Calls Feature\n",
    "\n",
    "\n"
   ]
  },
  {
   "cell_type": "code",
   "execution_count": 19,
   "metadata": {
    "colab": {
     "base_uri": "https://localhost:8080/",
     "height": 698
    },
    "id": "2SRilj6yGbXI",
    "outputId": "b04630b3-5e34-42c9-abef-2b27ea786ab1"
   },
   "outputs": [
    {
     "name": "stdout",
     "output_type": "stream",
     "text": [
      "Yes    4539\n",
      "No      461\n",
      "Name: Calls, dtype: int64\n",
      "\n",
      "NoneNone\n"
     ]
    },
    {
     "name": "stderr",
     "output_type": "stream",
     "text": [
      "<ipython-input-19-dd810e9d4ea7>:7: UserWarning: Matplotlib is currently using module://ipykernel.pylab.backend_inline, which is a non-GUI backend, so cannot show the figure.\n",
      "  print(f.show(),end = \"\")\n",
      "<ipython-input-19-dd810e9d4ea7>:8: UserWarning: Matplotlib is currently using module://ipykernel.pylab.backend_inline, which is a non-GUI backend, so cannot show the figure.\n",
      "  print(f1.show())\n"
     ]
    },
    {
     "data": {
      "image/png": "[encoded data removed]",
      "text/plain": [
       "<Figure size 360x360 with 1 Axes>"
      ]
     },
     "metadata": {
      "needs_background": "light"
     },
     "output_type": "display_data"
    },
    {
     "data": {
      "image/png": "[encoded data removed]",
      "text/plain": [
       "<Figure size 360x360 with 1 Axes>"
      ]
     },
     "metadata": {},
     "output_type": "display_data"
    }
   ],
   "source": [
    "print(df.Calls.value_counts())\n",
    "print()\n",
    "f = plt.figure(figsize = (5,5))\n",
    "df['Calls'].value_counts().plot(kind=\"bar\",color=[\"red\",\"blue\"])\n",
    "f1 = plt.figure(figsize = (5,5))\n",
    "df['Calls'].value_counts().plot(kind=\"pie\", autopct=\"%.2f\")\n",
    "print(f.show(),end = \"\")\n",
    "print(f1.show())"
   ]
  },
  {
   "cell_type": "markdown",
   "metadata": {
    "id": "mlGJlajNoic2"
   },
   "source": [
    "First count the categories of Calls feature i.e 4539 or 90.78% Yes values which means **\"Person has authority to make call\"** and 461 or 9.22% No values which means **\"Person has no authority to make call\"**. Then plot a graph in numerical bar and pie chart."
   ]
  },
  {
   "cell_type": "markdown",
   "metadata": {
    "id": "7Ynmy40qnHKQ"
   },
   "source": [
    "##Type Feature\n",
    "\n",
    "\n"
   ]
  },
  {
   "cell_type": "code",
   "execution_count": 20,
   "metadata": {
    "colab": {
     "base_uri": "https://localhost:8080/",
     "height": 762
    },
    "id": "9H0jpfyeGmde",
    "outputId": "d4b6eed1-d1da-4522-f703-a8ac0128ccf5"
   },
   "outputs": [
    {
     "name": "stdout",
     "output_type": "stream",
     "text": [
      "Month-to-month    2777\n",
      "Two year          1195\n",
      "One year          1028\n",
      "Name: Type, dtype: int64\n",
      "\n"
     ]
    },
    {
     "name": "stderr",
     "output_type": "stream",
     "text": [
      "<ipython-input-20-65fb43bd4ddd>:5: UserWarning: Matplotlib is currently using module://ipykernel.pylab.backend_inline, which is a non-GUI backend, so cannot show the figure.\n",
      "  f.show()\n",
      "<ipython-input-20-65fb43bd4ddd>:8: UserWarning: Matplotlib is currently using module://ipykernel.pylab.backend_inline, which is a non-GUI backend, so cannot show the figure.\n",
      "  f1.show()\n"
     ]
    },
    {
     "data": {
      "image/png": "[encoded data removed]",
      "text/plain": [
       "<Figure size 360x360 with 1 Axes>"
      ]
     },
     "metadata": {
      "needs_background": "light"
     },
     "output_type": "display_data"
    },
    {
     "data": {
      "image/png": "[encoded data removed]",
      "text/plain": [
       "<Figure size 360x360 with 1 Axes>"
      ]
     },
     "metadata": {},
     "output_type": "display_data"
    }
   ],
   "source": [
    "print(df.Type.value_counts())\n",
    "print()\n",
    "f = plt.figure(figsize = (5,5))\n",
    "df['Type'].value_counts().plot(kind=\"bar\",color=[\"red\",\"blue\"])\n",
    "f.show()\n",
    "f1 = plt.figure(figsize = (5,5))\n",
    "df['Type'].value_counts().plot(kind=\"pie\", autopct=\"%.2f\")\n",
    "f1.show()"
   ]
  },
  {
   "cell_type": "markdown",
   "metadata": {
    "id": "KyT1tpWbona-"
   },
   "source": [
    "First count the categories of Type(**\"Salary settlement type\"**) feature i.e 2777 or 55.54% **\"Month-to-month\"** values and 1195 or 23.90% **\"Two year\"** values and 1028 or 20.56% **\"One year\"** values. Then plot a graph in numerical bar and pie chart."
   ]
  },
  {
   "cell_type": "markdown",
   "metadata": {
    "id": "X_oqtTesnJRj"
   },
   "source": [
    "##Billing Feature\n",
    "\n",
    "\n"
   ]
  },
  {
   "cell_type": "code",
   "execution_count": 21,
   "metadata": {
    "colab": {
     "base_uri": "https://localhost:8080/",
     "height": 682
    },
    "id": "gu_MjrPlHbK7",
    "outputId": "0e0181e9-5a2c-42a8-c90d-3f6e8d3206df"
   },
   "outputs": [
    {
     "name": "stdout",
     "output_type": "stream",
     "text": [
      "Yes    2956\n",
      "No     2044\n",
      "Name: Billing, dtype: int64\n",
      "\n"
     ]
    },
    {
     "name": "stderr",
     "output_type": "stream",
     "text": [
      "<ipython-input-21-56c3d02c633b>:5: UserWarning: Matplotlib is currently using module://ipykernel.pylab.backend_inline, which is a non-GUI backend, so cannot show the figure.\n",
      "  f.show()\n",
      "<ipython-input-21-56c3d02c633b>:9: UserWarning: Matplotlib is currently using module://ipykernel.pylab.backend_inline, which is a non-GUI backend, so cannot show the figure.\n",
      "  f1.show()\n"
     ]
    },
    {
     "data": {
      "image/png": "[encoded data removed]",
      "text/plain": [
       "<Figure size 360x360 with 1 Axes>"
      ]
     },
     "metadata": {
      "needs_background": "light"
     },
     "output_type": "display_data"
    },
    {
     "data": {
      "image/png": "[encoded data removed]",
      "text/plain": [
       "<Figure size 360x360 with 1 Axes>"
      ]
     },
     "metadata": {},
     "output_type": "display_data"
    }
   ],
   "source": [
    "print(df['Billing'].value_counts())\n",
    "print()\n",
    "f = plt.figure(figsize = (5,5))\n",
    "df['Billing'].value_counts().plot(kind=\"bar\",color=[\"red\",\"blue\"])\n",
    "f.show()\n",
    "plt.legend(loc='best')\n",
    "f1 = plt.figure(figsize = (5,5))\n",
    "df['Billing'].value_counts().plot(kind=\"pie\", autopct=\"%.2f\")\n",
    "f1.show()"
   ]
  },
  {
   "cell_type": "markdown",
   "metadata": {
    "id": "YJvHC2bgoqoQ"
   },
   "source": [
    "First count the categories of Billing feature i.e 2956 or 59.12% Yes values which means **\"Subscribed to plans**\" and 2044 or 40.88% No values which means **\"No Subscribed to plans\"**. Then plot a graph in numerical bar and pie chart."
   ]
  },
  {
   "cell_type": "markdown",
   "metadata": {
    "id": "NAcxF27RnOP0"
   },
   "source": [
    "##Rating Feature\n",
    "\n",
    "\n"
   ]
  },
  {
   "cell_type": "code",
   "execution_count": 22,
   "metadata": {
    "colab": {
     "base_uri": "https://localhost:8080/",
     "height": 682
    },
    "id": "Y06GskeFOv4p",
    "outputId": "9b75b571-971a-4351-f75a-60b3fe553d67"
   },
   "outputs": [
    {
     "name": "stdout",
     "output_type": "stream",
     "text": [
      "No     3682\n",
      "Yes    1318\n",
      "Name: Rating, dtype: int64\n",
      "\n"
     ]
    },
    {
     "name": "stderr",
     "output_type": "stream",
     "text": [
      "<ipython-input-22-18d6f8de27e0>:5: UserWarning: Matplotlib is currently using module://ipykernel.pylab.backend_inline, which is a non-GUI backend, so cannot show the figure.\n",
      "  f.show()\n",
      "<ipython-input-22-18d6f8de27e0>:9: UserWarning: Matplotlib is currently using module://ipykernel.pylab.backend_inline, which is a non-GUI backend, so cannot show the figure.\n",
      "  f1.show()\n"
     ]
    },
    {
     "data": {
      "image/png": "[encoded data removed]",
      "text/plain": [
       "<Figure size 360x360 with 1 Axes>"
      ]
     },
     "metadata": {
      "needs_background": "light"
     },
     "output_type": "display_data"
    },
    {
     "data": {
      "image/png": "[encoded data removed]",
      "text/plain": [
       "<Figure size 360x360 with 1 Axes>"
      ]
     },
     "metadata": {},
     "output_type": "display_data"
    }
   ],
   "source": [
    "print(df['Rating'].value_counts())\n",
    "print()\n",
    "f = plt.figure(figsize = (5,5))\n",
    "df['Rating'].value_counts().plot(kind=\"bar\",color=[\"red\",\"blue\"])\n",
    "f.show()\n",
    "plt.legend(loc='best')\n",
    "f1 = plt.figure(figsize = (5,5))\n",
    "df['Rating'].value_counts().plot(kind=\"pie\", autopct=\"%.2f\")\n",
    "f1.show()"
   ]
  },
  {
   "cell_type": "markdown",
   "metadata": {
    "id": "flGcZE7CowDR"
   },
   "source": [
    "First count the categories of Rating feature i.e 3682 or 73.64% No values which means **\"No Rating by a Superior\"** and 1318 or 26.36% Yes values which means **\"Rating by a Superior\"**. Then plot a graph in numerical bar and pie chart."
   ]
  },
  {
   "cell_type": "markdown",
   "metadata": {
    "id": "Qu_xFzrpnWpy"
   },
   "source": [
    "##Education Feature\n",
    "\n",
    "\n"
   ]
  },
  {
   "cell_type": "code",
   "execution_count": 23,
   "metadata": {
    "colab": {
     "base_uri": "https://localhost:8080/",
     "height": 795
    },
    "id": "XRJvf_IxO-OJ",
    "outputId": "b60bc74f-cd1e-4c21-ca7f-f022a868cf9a"
   },
   "outputs": [
    {
     "name": "stdout",
     "output_type": "stream",
     "text": [
      "PG                     2979\n",
      "Graduation             1980\n",
      "Intermediate             27\n",
      "High School or less      14\n",
      "Name: Education, dtype: int64\n",
      "\n"
     ]
    },
    {
     "name": "stderr",
     "output_type": "stream",
     "text": [
      "<ipython-input-23-8774890c3d05>:5: UserWarning: Matplotlib is currently using module://ipykernel.pylab.backend_inline, which is a non-GUI backend, so cannot show the figure.\n",
      "  f.show()\n",
      "<ipython-input-23-8774890c3d05>:9: UserWarning: Matplotlib is currently using module://ipykernel.pylab.backend_inline, which is a non-GUI backend, so cannot show the figure.\n",
      "  f1.show()\n"
     ]
    },
    {
     "data": {
      "image/png": "[encoded data removed]",
      "text/plain": [
       "<Figure size 360x360 with 1 Axes>"
      ]
     },
     "metadata": {
      "needs_background": "light"
     },
     "output_type": "display_data"
    },
    {
     "data": {
      "image/png": "[encoded data removed]",
      "text/plain": [
       "<Figure size 360x360 with 1 Axes>"
      ]
     },
     "metadata": {},
     "output_type": "display_data"
    }
   ],
   "source": [
    "print(df['Education'].value_counts())\n",
    "print()\n",
    "f = plt.figure(figsize = (5,5))\n",
    "df['Education'].value_counts().plot(kind=\"bar\",color=[\"red\",\"blue\"])\n",
    "f.show()\n",
    "plt.legend(loc='best')\n",
    "f1 = plt.figure(figsize = (5,5))\n",
    "df['Education'].value_counts().plot(kind=\"pie\", autopct=\"%.2f\")\n",
    "f1.show()"
   ]
  },
  {
   "cell_type": "markdown",
   "metadata": {
    "id": "Hnd3ieX9ozUG"
   },
   "source": [
    "First count the categories of Education feature i.e 2979 or 59.58% **\"PG Education\"** values and 1980 or 39.60% **\"Graduation Education\"** values and 27 or 0.54% **\"Intermediate Education\"** values and 14 or 0.286% **\"High School Education\"** values. Then plot a graph in numerical bar and pie chart."
   ]
  },
  {
   "cell_type": "markdown",
   "metadata": {
    "id": "cHTE8ouGywao"
   },
   "source": [
    "##Continous value features\n",
    "\n",
    "\n"
   ]
  },
  {
   "cell_type": "code",
   "execution_count": 24,
   "metadata": {
    "colab": {
     "base_uri": "https://localhost:8080/",
     "height": 1000
    },
    "id": "I-D-rA86yNfm",
    "outputId": "a7bbe0aa-9a10-490f-a6ae-21ffbb66b0f8"
   },
   "outputs": [
    {
     "name": "stdout",
     "output_type": "stream",
     "text": [
      "\n",
      "\n",
      "\n",
      "\n",
      "\n",
      "\n",
      "\n",
      "\n",
      "\n",
      "\n",
      "\n",
      "\n"
     ]
    },
    {
     "data": {
      "image/png": "[encoded data removed]",
      "text/plain": [
       "<Figure size 1080x360 with 1 Axes>"
      ]
     },
     "metadata": {
      "needs_background": "light"
     },
     "output_type": "display_data"
    },
    {
     "data": {
      "image/png": "[encoded data removed]",
      "text/plain": [
       "<Figure size 1080x360 with 1 Axes>"
      ]
     },
     "metadata": {
      "needs_background": "light"
     },
     "output_type": "display_data"
    },
    {
     "data": {
      "image/png": "[encoded data removed]",
      "text/plain": [
       "<Figure size 1080x360 with 1 Axes>"
      ]
     },
     "metadata": {
      "needs_background": "light"
     },
     "output_type": "display_data"
    },
    {
     "data": {
      "image/png": "[encoded data removed]",
      "text/plain": [
       "<Figure size 1080x360 with 1 Axes>"
      ]
     },
     "metadata": {
      "needs_background": "light"
     },
     "output_type": "display_data"
    },
    {
     "data": {
      "image/png": "[encoded data removed]",
      "text/plain": [
       "<Figure size 1080x360 with 1 Axes>"
      ]
     },
     "metadata": {
      "needs_background": "light"
     },
     "output_type": "display_data"
    },
    {
     "data": {
      "image/png": "[encoded data removed]",
      "text/plain": [
       "<Figure size 1080x360 with 1 Axes>"
      ]
     },
     "metadata": {
      "needs_background": "light"
     },
     "output_type": "display_data"
    },
    {
     "data": {
      "image/png": "[encoded data removed]",
      "text/plain": [
       "<Figure size 1080x360 with 1 Axes>"
      ]
     },
     "metadata": {
      "needs_background": "light"
     },
     "output_type": "display_data"
    },
    {
     "data": {
      "image/png": "[encoded data removed]",
      "text/plain": [
       "<Figure size 1080x360 with 1 Axes>"
      ]
     },
     "metadata": {
      "needs_background": "light"
     },
     "output_type": "display_data"
    },
    {
     "data": {
      "image/png": "[encoded data removed]",
      "text/plain": [
       "<Figure size 1080x360 with 1 Axes>"
      ]
     },
     "metadata": {
      "needs_background": "light"
     },
     "output_type": "display_data"
    },
    {
     "data": {
      "image/png": "[encoded data removed]",
      "text/plain": [
       "<Figure size 1080x360 with 1 Axes>"
      ]
     },
     "metadata": {
      "needs_background": "light"
     },
     "output_type": "display_data"
    },
    {
     "data": {
      "image/png": "[encoded data removed]",
      "text/plain": [
       "<Figure size 1080x360 with 1 Axes>"
      ]
     },
     "metadata": {
      "needs_background": "light"
     },
     "output_type": "display_data"
    },
    {
     "data": {
      "image/png": "[encoded data removed]",
      "text/plain": [
       "<Figure size 1080x360 with 1 Axes>"
      ]
     },
     "metadata": {
      "needs_background": "light"
     },
     "output_type": "display_data"
    }
   ],
   "source": [
    "plt.figure(figsize = (15,5))\n",
    "sns.histplot(df.Age)\n",
    "print()\n",
    "plt.figure(figsize = (15,5))\n",
    "sns.histplot(df.Salary)\n",
    "print()\n",
    "plt.figure(figsize = (15,5))\n",
    "sns.histplot(df.Bonus)\n",
    "print()\n",
    "plt.figure(figsize = (15,5))\n",
    "sns.histplot(df.Base_pay)\n",
    "print()\n",
    "plt.figure(figsize = (15,5))\n",
    "sns.histplot(df.Unit_Price)\n",
    "print()\n",
    "plt.figure(figsize = (15,5))\n",
    "sns.histplot(df.Volume)\n",
    "print()\n",
    "plt.figure(figsize = (15,5))\n",
    "sns.histplot(df.openingbalance)\n",
    "print()\n",
    "plt.figure(figsize = (15,5))\n",
    "sns.histplot(df.closingbalance)\n",
    "print()\n",
    "plt.figure(figsize = (15,5))\n",
    "sns.histplot(df.low)\n",
    "print()\n",
    "plt.figure(figsize = (15,5))\n",
    "sns.histplot(df.Unit_Sales)\n",
    "print()\n",
    "plt.figure(figsize = (15,5))\n",
    "sns.histplot(df.Total_Sales)\n",
    "print()\n",
    "plt.figure(figsize = (15,5))\n",
    "sns.histplot(df.Months)\n",
    "print()"
   ]
  },
  {
   "cell_type": "markdown",
   "metadata": {
    "id": "wX1yQvWZo5Gp"
   },
   "source": [
    "After looking on continous value feature.\n",
    "*   Age feature => {\"min age\":18, \"max age\":88}\n",
    "*   Salary feature => {\"min salary\":5089, \"max Salary\":199970}\n",
    "*   Bonus feature => {\"min Bonus\":254, \"max Bonus\":9998}\n",
    "*   Base_pay feature => {\"min Base_pay\":2035, \"max Base_pay\":79988}\n",
    "*   Unit_Price feature => {\"min Unit_Price\":1.44, \"max Unit_Price\":629.51}\n",
    "*   Volume feature => {\"min Volume\":0000, \"max Volume\":3.208}\n",
    "*   openingbalance feature => {\"min O_balance\":3.68, \"max O_balance\":313.90}\n",
    "*   closingbalance feature => {\"min C_balance\":3.68, \"max C_balance\":313.68}\n",
    "*   low feature => {\"min low\":3.65, \"max low\":312.43}\n",
    "*   Unit_Sales feature => {\"min Unit_Sales\":18.25, \"max Unit_Sales\":118.75}\n",
    "*   Total_Sales feature => {\"min Total_Sales\":18.8, \"max Total_Sales\":120}\n",
    "*   Months feature => {\"min Months\":0, \"max Months\":72}\n",
    "   \n",
    "\n"
   ]
  },
  {
   "cell_type": "markdown",
   "metadata": {
    "id": "ua6ATka6tA9V"
   },
   "source": [
    "##Gender vs Business \n",
    "\n",
    "\n"
   ]
  },
  {
   "cell_type": "code",
   "execution_count": 25,
   "metadata": {
    "colab": {
     "base_uri": "https://localhost:8080/",
     "height": 351
    },
    "id": "ZFnveLZRqtAU",
    "outputId": "23980230-10e2-4752-88ec-f97f5eaf72aa"
   },
   "outputs": [
    {
     "data": {
      "text/plain": [
       "<AxesSubplot:xlabel='Business', ylabel='count'>"
      ]
     },
     "execution_count": 25,
     "metadata": {},
     "output_type": "execute_result"
    },
    {
     "data": {
      "image/png": "[encoded data removed]",
      "text/plain": [
       "<Figure size 720x360 with 1 Axes>"
      ]
     },
     "metadata": {
      "needs_background": "light"
     },
     "output_type": "display_data"
    }
   ],
   "source": [
    "plt.figure(figsize=(10,5))\n",
    "sns.countplot(x='Business', data=df, hue = 'Gender', palette='viridis')"
   ]
  },
  {
   "cell_type": "markdown",
   "metadata": {
    "id": "0SppBp11zfOW"
   },
   "source": [
    "X-axis contain Business and Y-axis contain Gender feature, from above graph we found that\n",
    "\n",
    "*   Number of Male&Female Business are equal\n",
    "*   Number of Female business are little more than Male Business. "
   ]
  },
  {
   "cell_type": "markdown",
   "metadata": {
    "id": "Z_-diXob2xPK"
   },
   "source": [
    "##Business vs Rating"
   ]
  },
  {
   "cell_type": "code",
   "execution_count": 26,
   "metadata": {
    "colab": {
     "base_uri": "https://localhost:8080/",
     "height": 351
    },
    "id": "J0zdrhyO2kmx",
    "outputId": "7f950f0c-5ea9-47a7-af6d-869b78e9ce90"
   },
   "outputs": [
    {
     "data": {
      "text/plain": [
       "<AxesSubplot:xlabel='Business', ylabel='count'>"
      ]
     },
     "execution_count": 26,
     "metadata": {},
     "output_type": "execute_result"
    },
    {
     "data": {
      "image/png": "[encoded data removed]",
      "text/plain": [
       "<Figure size 720x360 with 1 Axes>"
      ]
     },
     "metadata": {
      "needs_background": "light"
     },
     "output_type": "display_data"
    }
   ],
   "source": [
    "plt.figure(figsize=(10,5))\n",
    "sns.countplot(x='Business', data=df, hue = 'Rating', palette='viridis')"
   ]
  },
  {
   "cell_type": "markdown",
   "metadata": {
    "id": "nlHh-i-b5_sb"
   },
   "source": [
    "X-axis contain Business and Y-axis contain Gender feature, from above graph we found that\n",
    "\n",
    "\n",
    "*   Business man has given less rating as compared to Non-Business man\n"
   ]
  },
  {
   "cell_type": "markdown",
   "metadata": {
    "id": "SzX8tHx17XXf"
   },
   "source": [
    "##Business vs Calls"
   ]
  },
  {
   "cell_type": "code",
   "execution_count": 27,
   "metadata": {
    "colab": {
     "base_uri": "https://localhost:8080/",
     "height": 351
    },
    "id": "BnXGwzUv7M02",
    "outputId": "4de851d6-255c-4cfa-b0c1-6ff66adee1ea"
   },
   "outputs": [
    {
     "data": {
      "text/plain": [
       "<AxesSubplot:xlabel='Business', ylabel='count'>"
      ]
     },
     "execution_count": 27,
     "metadata": {},
     "output_type": "execute_result"
    },
    {
     "data": {
      "image/png": "[encoded data removed]",
      "text/plain": [
       "<Figure size 720x360 with 1 Axes>"
      ]
     },
     "metadata": {
      "needs_background": "light"
     },
     "output_type": "display_data"
    }
   ],
   "source": [
    "plt.figure(figsize=(10,5))\n",
    "sns.countplot(x='Business', data=df, hue = 'Calls', palette='viridis')"
   ]
  },
  {
   "cell_type": "markdown",
   "metadata": {
    "id": "LIUGyNP_7TUy"
   },
   "source": [
    "X-axis contain Business and Y-axis contain calls feature, from above graph we found that\n",
    "\n",
    "\n",
    "\n",
    "*   Non Business-man has more authority to make calls as compared to Business-man\n",
    "\n"
   ]
  },
  {
   "cell_type": "markdown",
   "metadata": {
    "id": "uhrFMz-X9u6S"
   },
   "source": [
    "##Gender vs Education"
   ]
  },
  {
   "cell_type": "code",
   "execution_count": 28,
   "metadata": {
    "colab": {
     "base_uri": "https://localhost:8080/",
     "height": 406
    },
    "id": "HP-wEQOU9opj",
    "outputId": "fadc5d58-64c9-444e-d780-d2ba5a38ed5a"
   },
   "outputs": [
    {
     "name": "stderr",
     "output_type": "stream",
     "text": [
      "C:\\Users\\rahul\\anaconda3\\lib\\site-packages\\seaborn\\_decorators.py:36: FutureWarning: Pass the following variable as a keyword arg: x. From version 0.12, the only valid positional argument will be `data`, and passing other arguments without an explicit keyword will result in an error or misinterpretation.\n",
      "  warnings.warn(\n"
     ]
    },
    {
     "data": {
      "text/plain": [
       "<AxesSubplot:xlabel='Gender', ylabel='count'>"
      ]
     },
     "execution_count": 28,
     "metadata": {},
     "output_type": "execute_result"
    },
    {
     "data": {
      "image/png": "[encoded data removed]",
      "text/plain": [
       "<Figure size 720x360 with 1 Axes>"
      ]
     },
     "metadata": {
      "needs_background": "light"
     },
     "output_type": "display_data"
    }
   ],
   "source": [
    "plt.figure(figsize=(10,5))\n",
    "sns.countplot(df.Gender, hue=df['Education'])"
   ]
  },
  {
   "cell_type": "markdown",
   "metadata": {
    "id": "A4LU77EH9zPU"
   },
   "source": [
    "X-axis contain Business and Y-axis contain calls feature, from above graph we found that\n",
    "\n",
    "*   Approximately Male and Female has same Educational Background\n",
    "\n",
    "\n"
   ]
  },
  {
   "cell_type": "markdown",
   "metadata": {
    "id": "jjIhO5xW-Plp"
   },
   "source": [
    "##Business vs Education"
   ]
  },
  {
   "cell_type": "code",
   "execution_count": 29,
   "metadata": {
    "colab": {
     "base_uri": "https://localhost:8080/",
     "height": 406
    },
    "id": "WkimQLtq1n4N",
    "outputId": "49360caf-af6b-4aac-e572-73d7574588d4"
   },
   "outputs": [
    {
     "name": "stderr",
     "output_type": "stream",
     "text": [
      "C:\\Users\\rahul\\anaconda3\\lib\\site-packages\\seaborn\\_decorators.py:36: FutureWarning: Pass the following variable as a keyword arg: x. From version 0.12, the only valid positional argument will be `data`, and passing other arguments without an explicit keyword will result in an error or misinterpretation.\n",
      "  warnings.warn(\n"
     ]
    },
    {
     "data": {
      "text/plain": [
       "<AxesSubplot:xlabel='Business', ylabel='count'>"
      ]
     },
     "execution_count": 29,
     "metadata": {},
     "output_type": "execute_result"
    },
    {
     "data": {
      "image/png": "[encoded data removed]",
      "text/plain": [
       "<Figure size 720x360 with 1 Axes>"
      ]
     },
     "metadata": {
      "needs_background": "light"
     },
     "output_type": "display_data"
    }
   ],
   "source": [
    "plt.figure(figsize=(10,5))\n",
    "sns.countplot(df.Business, hue=df['Education'])"
   ]
  },
  {
   "cell_type": "markdown",
   "metadata": {
    "id": "uW-z43w0-UdO"
   },
   "source": [
    "X-axis contain Business and Y-axis contain calls feature, from above graph we found that\n",
    "\n",
    "* Non Business-man have better Educational background than Business-man\n",
    "\n",
    "\n"
   ]
  },
  {
   "cell_type": "markdown",
   "metadata": {
    "id": "CWWRVL-ZIAy6"
   },
   "source": [
    "##Salary vs Rating and their Education"
   ]
  },
  {
   "cell_type": "code",
   "execution_count": 30,
   "metadata": {
    "colab": {
     "base_uri": "https://localhost:8080/",
     "height": 404
    },
    "id": "fRCD3vhuzV1M",
    "outputId": "ce9bf2b9-6337-40b3-ea44-8c64ce0b8ee1"
   },
   "outputs": [
    {
     "data": {
      "text/plain": [
       "<seaborn.axisgrid.FacetGrid at 0x1a72a8b32b0>"
      ]
     },
     "execution_count": 30,
     "metadata": {},
     "output_type": "execute_result"
    },
    {
     "data": {
      "text/plain": [
       "<Figure size 2160x2160 with 0 Axes>"
      ]
     },
     "metadata": {},
     "output_type": "display_data"
    },
    {
     "data": {
      "image/png": "[encoded data removed]",
      "text/plain": [
       "<Figure size 851.125x360 with 2 Axes>"
      ]
     },
     "metadata": {
      "needs_background": "light"
     },
     "output_type": "display_data"
    }
   ],
   "source": [
    "plt.figure(figsize=(30,30))\n",
    "sns.catplot(kind='box', x='Salary', y='Rating', data=df, palette='viridis',  col='Business', hue='Education')"
   ]
  },
  {
   "cell_type": "markdown",
   "metadata": {
    "id": "SFBmcZ9q_LjN"
   },
   "source": [
    "##Visualization between Gender and Education of Business and Non Business and thier Salary\n",
    "\n",
    "\n"
   ]
  },
  {
   "cell_type": "code",
   "execution_count": 31,
   "metadata": {
    "colab": {
     "base_uri": "https://localhost:8080/",
     "height": 386
    },
    "id": "p1VTadSw5elW",
    "outputId": "e1d68688-c5de-4b26-988c-cf1aaea31b4b"
   },
   "outputs": [
    {
     "data": {
      "text/plain": [
       "<Figure size 1080x360 with 0 Axes>"
      ]
     },
     "metadata": {},
     "output_type": "display_data"
    },
    {
     "data": {
      "image/png": "[encoded data removed]",
      "text/plain": [
       "<Figure size 843.925x360 with 2 Axes>"
      ]
     },
     "metadata": {
      "needs_background": "light"
     },
     "output_type": "display_data"
    }
   ],
   "source": [
    "plt.figure(figsize = (15,5))\n",
    "g = sns.catplot(x=\"Gender\", y=\"Salary\",\n",
    "                hue=\"Education\", col=\"Business\",\n",
    "                data=df, kind=\"bar\",\n",
    "                height=5, aspect=.99);"
   ]
  },
  {
   "cell_type": "markdown",
   "metadata": {
    "id": "d6Jp1GYRKysE"
   },
   "source": [
    "In this graph we see that \n",
    "\n",
    "*   Those male and female are Non-business and high school or intermediate educational backgroud have more Salary than those male and female having same educational background who are Business man.\n",
    "\n",
    "*  Those male and female are Business and graduation or pg educational backgroud have more Salary than those male and female having same educational background who are Non-business man.\n",
    "\n"
   ]
  },
  {
   "cell_type": "markdown",
   "metadata": {
    "id": "wHMzooLihW0Y"
   },
   "source": [
    "##Visualization between Gender and Business of Total_Sales and their Duration_Type\n",
    "\n",
    "\n"
   ]
  },
  {
   "cell_type": "code",
   "execution_count": 32,
   "metadata": {
    "colab": {
     "base_uri": "https://localhost:8080/",
     "height": 386
    },
    "id": "R8oszYmmfvku",
    "outputId": "06032f56-6324-4e49-9918-1c109a831afa"
   },
   "outputs": [
    {
     "data": {
      "text/plain": [
       "<Figure size 1080x360 with 0 Axes>"
      ]
     },
     "metadata": {},
     "output_type": "display_data"
    },
    {
     "data": {
      "image/png": "[encoded data removed]",
      "text/plain": [
       "<Figure size 829.55x360 with 2 Axes>"
      ]
     },
     "metadata": {
      "needs_background": "light"
     },
     "output_type": "display_data"
    }
   ],
   "source": [
    "plt.figure(figsize = (15,5))\n",
    "g = sns.catplot(x=\"Gender\", y=\"Total_Sales\",\n",
    "                hue=\"Type\", col=\"Business\",\n",
    "                data=df, kind=\"bar\",\n",
    "                height=5, aspect=.99);"
   ]
  },
  {
   "cell_type": "markdown",
   "metadata": {
    "id": "Obx_2MkMK1uR"
   },
   "source": [
    "In this graph we see that\n",
    "\n",
    "\n",
    "*   In Month-to-Month durantion type, Non-business female has more Total_Sales than Female Business and approximate equals Total_Sales of male Business and Non-Business.\n",
    "*   IN One Year duration type, Non-business female has less Total_Sales than Female Business and Non-business male has more Total_Sales than Male Business.\n",
    "*   IN Two Year duration type, Non-business female has more Total_Sales than Female Business and Non-business male has less Total_Sales than Male Business.\n",
    "\n"
   ]
  },
  {
   "cell_type": "markdown",
   "metadata": {
    "id": "gzqfkrwt0_LX"
   },
   "source": [
    "##Months vs Rating of Gender\n",
    "\n",
    "\n"
   ]
  },
  {
   "cell_type": "code",
   "execution_count": 33,
   "metadata": {
    "colab": {
     "base_uri": "https://localhost:8080/",
     "height": 386
    },
    "id": "HaFClLmzzJCo",
    "outputId": "fe54ac21-39bb-48eb-ed23-523b89fc18e1"
   },
   "outputs": [
    {
     "data": {
      "text/plain": [
       "<seaborn.axisgrid.FacetGrid at 0x1a72831a400>"
      ]
     },
     "execution_count": 33,
     "metadata": {},
     "output_type": "execute_result"
    },
    {
     "data": {
      "image/png": "[encoded data removed]",
      "text/plain": [
       "<Figure size 412x360 with 1 Axes>"
      ]
     },
     "metadata": {
      "needs_background": "light"
     },
     "output_type": "display_data"
    }
   ],
   "source": [
    "sns.catplot(x = 'Gender', y = 'Months', hue = 'Rating', data = df, kind = 'violin')"
   ]
  },
  {
   "cell_type": "markdown",
   "metadata": {
    "id": "f4VROih2K4sO"
   },
   "source": [
    "In this catplot graph we see that both male and female got apporox equal rating and and not rating by superior"
   ]
  },
  {
   "cell_type": "markdown",
   "metadata": {
    "id": "Bh-kd0bu1MuG"
   },
   "source": [
    "##Gender vs Salary Of Business and Non Business\n",
    "\n"
   ]
  },
  {
   "cell_type": "code",
   "execution_count": 34,
   "metadata": {
    "colab": {
     "base_uri": "https://localhost:8080/",
     "height": 386
    },
    "id": "RVCCQLCQwTEh",
    "outputId": "c9944877-ded9-4f8b-95f1-a260c4415837"
   },
   "outputs": [
    {
     "data": {
      "text/plain": [
       "<seaborn.axisgrid.FacetGrid at 0x1a72aa22ca0>"
      ]
     },
     "execution_count": 34,
     "metadata": {},
     "output_type": "execute_result"
    },
    {
     "data": {
      "image/png": "[encoded data removed]",
      "text/plain": [
       "<Figure size 412.375x360 with 1 Axes>"
      ]
     },
     "metadata": {
      "needs_background": "light"
     },
     "output_type": "display_data"
    }
   ],
   "source": [
    "import seaborn as sns\n",
    "sns.catplot(x = 'Gender', y = 'Salary', hue = 'Business', data = df, kind = 'violin')"
   ]
  },
  {
   "cell_type": "markdown",
   "metadata": {
    "id": "4kpDU2IJK7LQ"
   },
   "source": [
    "In this catplot graph we see that the male Business and Non-Business man has getting more salary than female business and non business."
   ]
  },
  {
   "cell_type": "markdown",
   "metadata": {
    "id": "J9WOAT8XiQ96"
   },
   "source": [
    "##HeatMap\n",
    "\n",
    "\n",
    "Heatmap is a way to show some sort of matrix plot. To use a heatmap the data should be in a matrix form. By matrix we mean that the index name and the column name must match in some way so that the data that we fill inside the cells are relevant."
   ]
  },
  {
   "cell_type": "code",
   "execution_count": 35,
   "metadata": {
    "colab": {
     "base_uri": "https://localhost:8080/",
     "height": 611
    },
    "id": "g4bJeXWtYGQf",
    "outputId": "406bf098-25a9-42f9-a964-de6271f01b29"
   },
   "outputs": [
    {
     "data": {
      "image/png": "[encoded data removed]",
      "text/plain": [
       "<Figure size 1296x648 with 2 Axes>"
      ]
     },
     "metadata": {
      "needs_background": "light"
     },
     "output_type": "display_data"
    }
   ],
   "source": [
    "plt.figure(figsize = (18,9))\n",
    "sns.heatmap(df.corr(), annot = True, cmap = \"RdYlGn\")\n",
    "plt.show()"
   ]
  },
  {
   "cell_type": "markdown",
   "metadata": {
    "id": "eXSGSqvNuG5F"
   },
   "source": [
    "#**Feature Engineering**"
   ]
  },
  {
   "cell_type": "code",
   "execution_count": 36,
   "metadata": {
    "colab": {
     "base_uri": "https://localhost:8080/",
     "height": 179
    },
    "id": "0Ol8uYq1Lh-Y",
    "outputId": "e98b6d27-b842-4835-d69a-7774eb651a2b"
   },
   "outputs": [
    {
     "data": {
      "text/html": [
       "<div>\n",
       "<style scoped>\n",
       "    .dataframe tbody tr th:only-of-type {\n",
       "        vertical-align: middle;\n",
       "    }\n",
       "\n",
       "    .dataframe tbody tr th {\n",
       "        vertical-align: top;\n",
       "    }\n",
       "\n",
       "    .dataframe thead th {\n",
       "        text-align: right;\n",
       "    }\n",
       "</style>\n",
       "<table border=\"1\" class=\"dataframe\">\n",
       "  <thead>\n",
       "    <tr style=\"text-align: right;\">\n",
       "      <th></th>\n",
       "      <th>Gender</th>\n",
       "      <th>Business</th>\n",
       "      <th>Dependancies</th>\n",
       "      <th>Calls</th>\n",
       "      <th>Type</th>\n",
       "      <th>Billing</th>\n",
       "      <th>Rating</th>\n",
       "      <th>Age</th>\n",
       "      <th>Salary</th>\n",
       "      <th>Base_pay</th>\n",
       "      <th>Bonus</th>\n",
       "      <th>Unit_Price</th>\n",
       "      <th>Volume</th>\n",
       "      <th>openingbalance</th>\n",
       "      <th>closingbalance</th>\n",
       "      <th>low</th>\n",
       "      <th>Unit_Sales</th>\n",
       "      <th>Total_Sales</th>\n",
       "      <th>Months</th>\n",
       "      <th>Education</th>\n",
       "    </tr>\n",
       "  </thead>\n",
       "  <tbody>\n",
       "    <tr>\n",
       "      <th>0</th>\n",
       "      <td>Female</td>\n",
       "      <td>0</td>\n",
       "      <td>No</td>\n",
       "      <td>Yes</td>\n",
       "      <td>Month-to-month</td>\n",
       "      <td>No</td>\n",
       "      <td>Yes</td>\n",
       "      <td>18</td>\n",
       "      <td>5089.0</td>\n",
       "      <td>2035.6</td>\n",
       "      <td>254.45</td>\n",
       "      <td>3.77</td>\n",
       "      <td>21226600</td>\n",
       "      <td>3.75</td>\n",
       "      <td>3.76</td>\n",
       "      <td>3.65</td>\n",
       "      <td>18.25</td>\n",
       "      <td>18.8</td>\n",
       "      <td>0</td>\n",
       "      <td>High School or less</td>\n",
       "    </tr>\n",
       "  </tbody>\n",
       "</table>\n",
       "</div>"
      ],
      "text/plain": [
       "   Gender  Business Dependancies Calls            Type Billing Rating  Age  \\\n",
       "0  Female         0           No   Yes  Month-to-month      No    Yes   18   \n",
       "\n",
       "   Salary  Base_pay   Bonus  Unit_Price    Volume  openingbalance  \\\n",
       "0  5089.0    2035.6  254.45        3.77  21226600            3.75   \n",
       "\n",
       "   closingbalance   low  Unit_Sales  Total_Sales  Months            Education  \n",
       "0            3.76  3.65       18.25         18.8       0  High School or less  "
      ]
     },
     "execution_count": 36,
     "metadata": {},
     "output_type": "execute_result"
    }
   ],
   "source": [
    "df.head(1)"
   ]
  },
  {
   "cell_type": "markdown",
   "metadata": {
    "id": "SPprwdCduSWd"
   },
   "source": [
    "##Drop unused columns"
   ]
  },
  {
   "cell_type": "code",
   "execution_count": 37,
   "metadata": {
    "id": "cqDTWVM_i6Q-"
   },
   "outputs": [],
   "source": [
    "df.drop([\"Dependancies\", \"Calls\", \"Billing\", \"Type\"], axis = 1, inplace = True)"
   ]
  },
  {
   "cell_type": "markdown",
   "metadata": {
    "id": "GxsbEKgGuXTB"
   },
   "source": [
    "##import labelencoder"
   ]
  },
  {
   "cell_type": "code",
   "execution_count": 38,
   "metadata": {
    "id": "aVHYDeA5nExC"
   },
   "outputs": [],
   "source": [
    "from sklearn.preprocessing import LabelEncoder\n",
    "encode = LabelEncoder()"
   ]
  },
  {
   "cell_type": "markdown",
   "metadata": {
    "id": "Z1kd4aZfueRj"
   },
   "source": [
    "##convert Gender column in categorical value\n",
    "Male : 1 and\n",
    "Female : 0"
   ]
  },
  {
   "cell_type": "code",
   "execution_count": 39,
   "metadata": {
    "id": "GR3OKl3KoppG"
   },
   "outputs": [],
   "source": [
    "df['Gender']= encode.fit_transform(df['Gender'])"
   ]
  },
  {
   "cell_type": "markdown",
   "metadata": {
    "id": "ahsC0xL7ug08"
   },
   "source": [
    "##convert Rating column in categorical value\n",
    "Yes : 1 and No : 0"
   ]
  },
  {
   "cell_type": "code",
   "execution_count": 40,
   "metadata": {
    "id": "x5K4J_nworLO"
   },
   "outputs": [],
   "source": [
    "df['Rating']= encode.fit_transform(df['Rating'])"
   ]
  },
  {
   "cell_type": "markdown",
   "metadata": {
    "id": "DLTZYL0fujQA"
   },
   "source": [
    "##convert Education column in categorical value\n",
    "\"High School less\" : 1    and \"Intermediate\" : 2\n",
    "and \"Graduation\" : 2   and \"PG\" :4"
   ]
  },
  {
   "cell_type": "code",
   "execution_count": 41,
   "metadata": {
    "id": "lT4Y771DoaDF"
   },
   "outputs": [],
   "source": [
    "df['Education'] = df['Education'].map({'High School or less':1, 'Intermediate':2, 'Graduation':3, 'PG':4})"
   ]
  },
  {
   "cell_type": "code",
   "execution_count": 42,
   "metadata": {
    "colab": {
     "base_uri": "https://localhost:8080/",
     "height": 270
    },
    "id": "xL9pTParkOaQ",
    "outputId": "a494a153-9ac7-43f0-be90-f48f58395184"
   },
   "outputs": [
    {
     "data": {
      "text/html": [
       "<div>\n",
       "<style scoped>\n",
       "    .dataframe tbody tr th:only-of-type {\n",
       "        vertical-align: middle;\n",
       "    }\n",
       "\n",
       "    .dataframe tbody tr th {\n",
       "        vertical-align: top;\n",
       "    }\n",
       "\n",
       "    .dataframe thead th {\n",
       "        text-align: right;\n",
       "    }\n",
       "</style>\n",
       "<table border=\"1\" class=\"dataframe\">\n",
       "  <thead>\n",
       "    <tr style=\"text-align: right;\">\n",
       "      <th></th>\n",
       "      <th>Gender</th>\n",
       "      <th>Business</th>\n",
       "      <th>Rating</th>\n",
       "      <th>Age</th>\n",
       "      <th>Salary</th>\n",
       "      <th>Base_pay</th>\n",
       "      <th>Bonus</th>\n",
       "      <th>Unit_Price</th>\n",
       "      <th>Volume</th>\n",
       "      <th>openingbalance</th>\n",
       "      <th>closingbalance</th>\n",
       "      <th>low</th>\n",
       "      <th>Unit_Sales</th>\n",
       "      <th>Total_Sales</th>\n",
       "      <th>Months</th>\n",
       "      <th>Education</th>\n",
       "    </tr>\n",
       "  </thead>\n",
       "  <tbody>\n",
       "    <tr>\n",
       "      <th>0</th>\n",
       "      <td>0</td>\n",
       "      <td>0</td>\n",
       "      <td>1</td>\n",
       "      <td>18</td>\n",
       "      <td>5089.00</td>\n",
       "      <td>2035.600</td>\n",
       "      <td>254.4500</td>\n",
       "      <td>3.77</td>\n",
       "      <td>21226600</td>\n",
       "      <td>3.75</td>\n",
       "      <td>3.76</td>\n",
       "      <td>3.65</td>\n",
       "      <td>18.25</td>\n",
       "      <td>18.80</td>\n",
       "      <td>0</td>\n",
       "      <td>1</td>\n",
       "    </tr>\n",
       "    <tr>\n",
       "      <th>1</th>\n",
       "      <td>0</td>\n",
       "      <td>0</td>\n",
       "      <td>1</td>\n",
       "      <td>19</td>\n",
       "      <td>5698.12</td>\n",
       "      <td>2279.248</td>\n",
       "      <td>284.9060</td>\n",
       "      <td>3.74</td>\n",
       "      <td>10462800</td>\n",
       "      <td>3.85</td>\n",
       "      <td>3.68</td>\n",
       "      <td>3.65</td>\n",
       "      <td>18.40</td>\n",
       "      <td>18.85</td>\n",
       "      <td>0</td>\n",
       "      <td>1</td>\n",
       "    </tr>\n",
       "    <tr>\n",
       "      <th>2</th>\n",
       "      <td>1</td>\n",
       "      <td>0</td>\n",
       "      <td>0</td>\n",
       "      <td>22</td>\n",
       "      <td>5896.65</td>\n",
       "      <td>2358.660</td>\n",
       "      <td>294.8325</td>\n",
       "      <td>3.89</td>\n",
       "      <td>18761000</td>\n",
       "      <td>4.23</td>\n",
       "      <td>4.29</td>\n",
       "      <td>3.72</td>\n",
       "      <td>18.70</td>\n",
       "      <td>18.90</td>\n",
       "      <td>0</td>\n",
       "      <td>1</td>\n",
       "    </tr>\n",
       "    <tr>\n",
       "      <th>3</th>\n",
       "      <td>0</td>\n",
       "      <td>1</td>\n",
       "      <td>1</td>\n",
       "      <td>21</td>\n",
       "      <td>6125.12</td>\n",
       "      <td>2450.048</td>\n",
       "      <td>306.2560</td>\n",
       "      <td>4.35</td>\n",
       "      <td>66130600</td>\n",
       "      <td>4.26</td>\n",
       "      <td>4.31</td>\n",
       "      <td>3.83</td>\n",
       "      <td>18.75</td>\n",
       "      <td>19.00</td>\n",
       "      <td>0</td>\n",
       "      <td>1</td>\n",
       "    </tr>\n",
       "    <tr>\n",
       "      <th>4</th>\n",
       "      <td>1</td>\n",
       "      <td>0</td>\n",
       "      <td>1</td>\n",
       "      <td>23</td>\n",
       "      <td>6245.00</td>\n",
       "      <td>2498.000</td>\n",
       "      <td>312.2500</td>\n",
       "      <td>4.34</td>\n",
       "      <td>26868200</td>\n",
       "      <td>4.79</td>\n",
       "      <td>4.41</td>\n",
       "      <td>4.08</td>\n",
       "      <td>18.80</td>\n",
       "      <td>19.05</td>\n",
       "      <td>1</td>\n",
       "      <td>1</td>\n",
       "    </tr>\n",
       "  </tbody>\n",
       "</table>\n",
       "</div>"
      ],
      "text/plain": [
       "   Gender  Business  Rating  Age   Salary  Base_pay     Bonus  Unit_Price  \\\n",
       "0       0         0       1   18  5089.00  2035.600  254.4500        3.77   \n",
       "1       0         0       1   19  5698.12  2279.248  284.9060        3.74   \n",
       "2       1         0       0   22  5896.65  2358.660  294.8325        3.89   \n",
       "3       0         1       1   21  6125.12  2450.048  306.2560        4.35   \n",
       "4       1         0       1   23  6245.00  2498.000  312.2500        4.34   \n",
       "\n",
       "     Volume  openingbalance  closingbalance   low  Unit_Sales  Total_Sales  \\\n",
       "0  21226600            3.75            3.76  3.65       18.25        18.80   \n",
       "1  10462800            3.85            3.68  3.65       18.40        18.85   \n",
       "2  18761000            4.23            4.29  3.72       18.70        18.90   \n",
       "3  66130600            4.26            4.31  3.83       18.75        19.00   \n",
       "4  26868200            4.79            4.41  4.08       18.80        19.05   \n",
       "\n",
       "   Months  Education  \n",
       "0       0          1  \n",
       "1       0          1  \n",
       "2       0          1  \n",
       "3       0          1  \n",
       "4       1          1  "
      ]
     },
     "execution_count": 42,
     "metadata": {},
     "output_type": "execute_result"
    }
   ],
   "source": [
    "df.head()"
   ]
  },
  {
   "cell_type": "markdown",
   "metadata": {
    "id": "7TWaMrIeEZN7"
   },
   "source": [
    "##Decleared dependent and independent value "
   ]
  },
  {
   "cell_type": "code",
   "execution_count": 43,
   "metadata": {
    "id": "zx8z5ozZbLz2"
   },
   "outputs": [],
   "source": [
    "x = df.drop(['Salary', 'Base_pay', 'Volume', 'low', 'Unit_Sales'] , axis = 1)\n",
    "y = df['Salary']"
   ]
  },
  {
   "cell_type": "code",
   "execution_count": 44,
   "metadata": {
    "colab": {
     "base_uri": "https://localhost:8080/",
     "height": 423
    },
    "id": "ulYB9FGuevpS",
    "outputId": "007bf5c8-c5bc-41d5-903e-825f94bc4c92"
   },
   "outputs": [
    {
     "data": {
      "text/html": [
       "<div>\n",
       "<style scoped>\n",
       "    .dataframe tbody tr th:only-of-type {\n",
       "        vertical-align: middle;\n",
       "    }\n",
       "\n",
       "    .dataframe tbody tr th {\n",
       "        vertical-align: top;\n",
       "    }\n",
       "\n",
       "    .dataframe thead th {\n",
       "        text-align: right;\n",
       "    }\n",
       "</style>\n",
       "<table border=\"1\" class=\"dataframe\">\n",
       "  <thead>\n",
       "    <tr style=\"text-align: right;\">\n",
       "      <th></th>\n",
       "      <th>Gender</th>\n",
       "      <th>Business</th>\n",
       "      <th>Rating</th>\n",
       "      <th>Age</th>\n",
       "      <th>Bonus</th>\n",
       "      <th>Unit_Price</th>\n",
       "      <th>openingbalance</th>\n",
       "      <th>closingbalance</th>\n",
       "      <th>Total_Sales</th>\n",
       "      <th>Months</th>\n",
       "      <th>Education</th>\n",
       "    </tr>\n",
       "  </thead>\n",
       "  <tbody>\n",
       "    <tr>\n",
       "      <th>0</th>\n",
       "      <td>0</td>\n",
       "      <td>0</td>\n",
       "      <td>1</td>\n",
       "      <td>18</td>\n",
       "      <td>254.4500</td>\n",
       "      <td>3.770000</td>\n",
       "      <td>3.750000</td>\n",
       "      <td>3.760000</td>\n",
       "      <td>18.80</td>\n",
       "      <td>0</td>\n",
       "      <td>1</td>\n",
       "    </tr>\n",
       "    <tr>\n",
       "      <th>1</th>\n",
       "      <td>0</td>\n",
       "      <td>0</td>\n",
       "      <td>1</td>\n",
       "      <td>19</td>\n",
       "      <td>284.9060</td>\n",
       "      <td>3.740000</td>\n",
       "      <td>3.850000</td>\n",
       "      <td>3.680000</td>\n",
       "      <td>18.85</td>\n",
       "      <td>0</td>\n",
       "      <td>1</td>\n",
       "    </tr>\n",
       "    <tr>\n",
       "      <th>2</th>\n",
       "      <td>1</td>\n",
       "      <td>0</td>\n",
       "      <td>0</td>\n",
       "      <td>22</td>\n",
       "      <td>294.8325</td>\n",
       "      <td>3.890000</td>\n",
       "      <td>4.230000</td>\n",
       "      <td>4.290000</td>\n",
       "      <td>18.90</td>\n",
       "      <td>0</td>\n",
       "      <td>1</td>\n",
       "    </tr>\n",
       "    <tr>\n",
       "      <th>3</th>\n",
       "      <td>0</td>\n",
       "      <td>1</td>\n",
       "      <td>1</td>\n",
       "      <td>21</td>\n",
       "      <td>306.2560</td>\n",
       "      <td>4.350000</td>\n",
       "      <td>4.260000</td>\n",
       "      <td>4.310000</td>\n",
       "      <td>19.00</td>\n",
       "      <td>0</td>\n",
       "      <td>1</td>\n",
       "    </tr>\n",
       "    <tr>\n",
       "      <th>4</th>\n",
       "      <td>1</td>\n",
       "      <td>0</td>\n",
       "      <td>1</td>\n",
       "      <td>23</td>\n",
       "      <td>312.2500</td>\n",
       "      <td>4.340000</td>\n",
       "      <td>4.790000</td>\n",
       "      <td>4.410000</td>\n",
       "      <td>19.05</td>\n",
       "      <td>1</td>\n",
       "      <td>1</td>\n",
       "    </tr>\n",
       "    <tr>\n",
       "      <th>...</th>\n",
       "      <td>...</td>\n",
       "      <td>...</td>\n",
       "      <td>...</td>\n",
       "      <td>...</td>\n",
       "      <td>...</td>\n",
       "      <td>...</td>\n",
       "      <td>...</td>\n",
       "      <td>...</td>\n",
       "      <td>...</td>\n",
       "      <td>...</td>\n",
       "      <td>...</td>\n",
       "    </tr>\n",
       "    <tr>\n",
       "      <th>4995</th>\n",
       "      <td>0</td>\n",
       "      <td>0</td>\n",
       "      <td>0</td>\n",
       "      <td>72</td>\n",
       "      <td>9034.8400</td>\n",
       "      <td>629.511067</td>\n",
       "      <td>33.119999</td>\n",
       "      <td>293.838840</td>\n",
       "      <td>1395.65</td>\n",
       "      <td>72</td>\n",
       "      <td>4</td>\n",
       "    </tr>\n",
       "    <tr>\n",
       "      <th>4996</th>\n",
       "      <td>1</td>\n",
       "      <td>0</td>\n",
       "      <td>0</td>\n",
       "      <td>73</td>\n",
       "      <td>9284.2950</td>\n",
       "      <td>627.841071</td>\n",
       "      <td>33.119999</td>\n",
       "      <td>301.311314</td>\n",
       "      <td>1395.65</td>\n",
       "      <td>72</td>\n",
       "      <td>4</td>\n",
       "    </tr>\n",
       "    <tr>\n",
       "      <th>4997</th>\n",
       "      <td>1</td>\n",
       "      <td>0</td>\n",
       "      <td>0</td>\n",
       "      <td>74</td>\n",
       "      <td>9631.8400</td>\n",
       "      <td>625.860033</td>\n",
       "      <td>33.119999</td>\n",
       "      <td>306.040009</td>\n",
       "      <td>1395.65</td>\n",
       "      <td>72</td>\n",
       "      <td>4</td>\n",
       "    </tr>\n",
       "    <tr>\n",
       "      <th>4998</th>\n",
       "      <td>1</td>\n",
       "      <td>1</td>\n",
       "      <td>1</td>\n",
       "      <td>74</td>\n",
       "      <td>9798.5350</td>\n",
       "      <td>629.510005</td>\n",
       "      <td>33.119999</td>\n",
       "      <td>308.579987</td>\n",
       "      <td>1395.65</td>\n",
       "      <td>72</td>\n",
       "      <td>4</td>\n",
       "    </tr>\n",
       "    <tr>\n",
       "      <th>4999</th>\n",
       "      <td>1</td>\n",
       "      <td>0</td>\n",
       "      <td>0</td>\n",
       "      <td>88</td>\n",
       "      <td>9998.5370</td>\n",
       "      <td>627.839984</td>\n",
       "      <td>33.119999</td>\n",
       "      <td>312.307316</td>\n",
       "      <td>1395.65</td>\n",
       "      <td>72</td>\n",
       "      <td>4</td>\n",
       "    </tr>\n",
       "  </tbody>\n",
       "</table>\n",
       "<p>5000 rows × 11 columns</p>\n",
       "</div>"
      ],
      "text/plain": [
       "      Gender  Business  Rating  Age      Bonus  Unit_Price  openingbalance  \\\n",
       "0          0         0       1   18   254.4500    3.770000        3.750000   \n",
       "1          0         0       1   19   284.9060    3.740000        3.850000   \n",
       "2          1         0       0   22   294.8325    3.890000        4.230000   \n",
       "3          0         1       1   21   306.2560    4.350000        4.260000   \n",
       "4          1         0       1   23   312.2500    4.340000        4.790000   \n",
       "...      ...       ...     ...  ...        ...         ...             ...   \n",
       "4995       0         0       0   72  9034.8400  629.511067       33.119999   \n",
       "4996       1         0       0   73  9284.2950  627.841071       33.119999   \n",
       "4997       1         0       0   74  9631.8400  625.860033       33.119999   \n",
       "4998       1         1       1   74  9798.5350  629.510005       33.119999   \n",
       "4999       1         0       0   88  9998.5370  627.839984       33.119999   \n",
       "\n",
       "      closingbalance  Total_Sales  Months  Education  \n",
       "0           3.760000        18.80       0          1  \n",
       "1           3.680000        18.85       0          1  \n",
       "2           4.290000        18.90       0          1  \n",
       "3           4.310000        19.00       0          1  \n",
       "4           4.410000        19.05       1          1  \n",
       "...              ...          ...     ...        ...  \n",
       "4995      293.838840      1395.65      72          4  \n",
       "4996      301.311314      1395.65      72          4  \n",
       "4997      306.040009      1395.65      72          4  \n",
       "4998      308.579987      1395.65      72          4  \n",
       "4999      312.307316      1395.65      72          4  \n",
       "\n",
       "[5000 rows x 11 columns]"
      ]
     },
     "execution_count": 44,
     "metadata": {},
     "output_type": "execute_result"
    }
   ],
   "source": [
    "x"
   ]
  },
  {
   "cell_type": "code",
   "execution_count": 45,
   "metadata": {
    "colab": {
     "base_uri": "https://localhost:8080/"
    },
    "id": "F5UPgftIfN9u",
    "outputId": "7081a7ce-bb3f-44f3-e10c-fb8426a18cf6"
   },
   "outputs": [
    {
     "data": {
      "text/plain": [
       "0         5089.00\n",
       "1         5698.12\n",
       "2         5896.65\n",
       "3         6125.12\n",
       "4         6245.00\n",
       "          ...    \n",
       "4995    180696.80\n",
       "4996    185685.90\n",
       "4997    192636.80\n",
       "4998    195970.70\n",
       "4999    199970.74\n",
       "Name: Salary, Length: 5000, dtype: float64"
      ]
     },
     "execution_count": 45,
     "metadata": {},
     "output_type": "execute_result"
    }
   ],
   "source": [
    "y"
   ]
  },
  {
   "cell_type": "markdown",
   "metadata": {
    "id": "-H-VVYgrEy5D"
   },
   "source": [
    "##Train-Test split"
   ]
  },
  {
   "cell_type": "code",
   "execution_count": 46,
   "metadata": {
    "id": "QZIsOstYbFCw"
   },
   "outputs": [],
   "source": [
    "from sklearn.model_selection import train_test_split\n",
    "x_train, x_test, y_train, y_test = train_test_split(x , y , test_size = 0.25 , random_state = 0)"
   ]
  },
  {
   "cell_type": "markdown",
   "metadata": {
    "id": "qu4dWPmQ3Dbt"
   },
   "source": [
    "#**Model Creation**\n",
    "\n",
    "Here we create differnt machine learning model"
   ]
  },
  {
   "cell_type": "markdown",
   "metadata": {
    "id": "pyXDMf6f3HAn"
   },
   "source": [
    "##Linear Regression"
   ]
  },
  {
   "cell_type": "code",
   "execution_count": 47,
   "metadata": {
    "colab": {
     "base_uri": "https://localhost:8080/",
     "height": 312
    },
    "id": "N5IUPKIoci9X",
    "outputId": "5496cd7b-2972-41ac-81ea-70941bbef539"
   },
   "outputs": [
    {
     "data": {
      "image/png": "[encoded data removed]",
      "text/plain": [
       "<Figure size 432x288 with 1 Axes>"
      ]
     },
     "metadata": {
      "needs_background": "light"
     },
     "output_type": "display_data"
    },
    {
     "data": {
      "text/plain": [
       "<Figure size 432x288 with 0 Axes>"
      ]
     },
     "metadata": {},
     "output_type": "display_data"
    }
   ],
   "source": [
    "from sklearn.linear_model import LinearRegression\n",
    "LR = LinearRegression().fit(x_train, y_train)\n",
    "y_pred_LR = LR.predict(x_test)\n",
    "plt.scatter(y_test, y_pred_LR)\n",
    "plt.plot([100000*x for x in range(7)], [100000*x for x in range(7)], color = 'r')\n",
    "plt.xlabel(\"Reality Prices\")\n",
    "plt.ylabel(\"Predicted prices\")\n",
    "plt.title('Linear Regression')\n",
    "plt.show()\n",
    "plt.clf()"
   ]
  },
  {
   "cell_type": "markdown",
   "metadata": {
    "id": "CbnXZbK9DHnx"
   },
   "source": [
    "##Create and fit all ML Model"
   ]
  },
  {
   "cell_type": "code",
   "execution_count": 48,
   "metadata": {
    "id": "m5EGHUMJ82PS"
   },
   "outputs": [],
   "source": [
    "from numpy.ma.core import shape\n",
    "from sklearn.metrics import mean_squared_log_error\n",
    "from sklearn.metrics import mean_squared_error\n",
    "def model_fit(x_train, x_test, y_train, y_test):\n",
    "  \n",
    "  from sklearn.linear_model import LinearRegression\n",
    "  LR = LinearRegression().fit(x_train, y_train)\n",
    "  return LR"
   ]
  },
  {
   "cell_type": "code",
   "execution_count": 49,
   "metadata": {
    "colab": {
     "base_uri": "https://localhost:8080/"
    },
    "id": "zrM2lR8c9E8r",
    "outputId": "666aff10-4902-4440-e3ee-f7d82350719d"
   },
   "outputs": [
    {
     "data": {
      "text/plain": [
       "array([ 64631.43297486, 118137.14109939, 143137.34650162, ...,\n",
       "        14255.38722703, 107748.98069817,  98171.51063627])"
      ]
     },
     "execution_count": 49,
     "metadata": {},
     "output_type": "execute_result"
    }
   ],
   "source": [
    "y_pred = LR.predict(x_test)\n",
    "y_pred"
   ]
  },
  {
   "cell_type": "markdown",
   "metadata": {
    "id": "P1eO-Zlt-Mtd"
   },
   "source": [
    "#Mean Squared Error \n",
    "\n",
    "\n",
    "\n",
    "*   Mean squared error states that finding the squared difference between actual and predicted value.It represents the squared distance between actual and predicted values. we perform squared to avoid the cancellation of negative terms and it is the benefit of MSE.\n",
    "\n",
    "\n"
   ]
  },
  {
   "cell_type": "code",
   "execution_count": 50,
   "metadata": {
    "colab": {
     "base_uri": "https://localhost:8080/"
    },
    "id": "vsv36O2h7ofa",
    "outputId": "94f8be9c-0501-4ae4-f9de-96790240f9ed"
   },
   "outputs": [
    {
     "name": "stdout",
     "output_type": "stream",
     "text": [
      "1.3786608991888966e-11\n"
     ]
    }
   ],
   "source": [
    "MSE = mean_squared_error(y_pred, y_test)\n",
    "print(MSE)"
   ]
  },
  {
   "cell_type": "markdown",
   "metadata": {
    "id": "kz5dK43PPReW"
   },
   "source": [
    " After completion of Mean Squared Error comparsion, we found that, LinearRegression has **\"1.378**\" mean squared error "
   ]
  },
  {
   "cell_type": "markdown",
   "metadata": {
    "id": "b2RuSGun-UBn"
   },
   "source": [
    "#R Squared Score  \n",
    "\n",
    "\n",
    "R2 score is a metric that tells the performance of your model, not the loss in an absolute sense that how many wells did your model perform.![22091R2 Squared Formula.png](data:image/png;base64,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)\n",
    "\n",
    "If the R2 score is zero then the above regression line by mean line is equal means 1 so 1-1 is zero. So, in this case, both lines are overlapping means model performance is worst, It is not capable to take advantage of the output column.\n",
    "\n",
    "Second case is when the R2 score is 1, it means when the division term is zero and it will happen when the regression line does not make any mistake, it is perfect. In the real world, it is not possible.\n",
    "\n",
    "So we can say that as our regression line moves towards perfection, R2 score move towards one. And the model performance improves.\n",
    "\n",
    "The normal case is when the R2 score is between zero and one like 0.8 which means your model is capable to explain 80 per cent of the variance of data."
   ]
  },
  {
   "cell_type": "code",
   "execution_count": 51,
   "metadata": {
    "colab": {
     "base_uri": "https://localhost:8080/"
    },
    "id": "DnNIqWB_9dlC",
    "outputId": "0e9e6808-66ab-4932-e374-5036d9032b75"
   },
   "outputs": [
    {
     "name": "stdout",
     "output_type": "stream",
     "text": [
      "1.0\n"
     ]
    }
   ],
   "source": [
    "from sklearn.metrics import r2_score\n",
    "R = r2_score(y_test, y_pred)\n",
    "print(R)"
   ]
  },
  {
   "cell_type": "markdown",
   "metadata": {
    "id": "noo3m1qCPrAk"
   },
   "source": [
    "After comparing R_Square_Scoe of the Linear Regression model, then we conclude that it give 1.0 r2 score."
   ]
  },
  {
   "cell_type": "markdown",
   "metadata": {
    "id": "g-F__NDoP0Sm"
   },
   "source": [
    "##**Conclusion**"
   ]
  },
  {
   "cell_type": "markdown",
   "metadata": {
    "id": "BZuJFkXRrOHl"
   },
   "source": [
    "After doing all the process, we conclude that how machine learning model can be applied in Humar Resource Devision.\n",
    "we use Linear Regression machine learning algorithm to fit and train the data and we got 1.37 mean_squared_error\n",
    "and 1.0 r2_score ."
   ]
  },
  {
   "cell_type": "code",
   "execution_count": null,
   "metadata": {
    "id": "JxNe9PMorai0"
   },
   "outputs": [],
   "source": []
  }
 ],
 "metadata": {
  "colab": {
   "collapsed_sections": [],
   "name": "Hr_Industry_1.ipynb",
   "provenance": [],
   "toc_visible": true
  },
  "kernelspec": {
   "display_name": "Python 3",
   "language": "python",
   "name": "python3"
  },
  "language_info": {
   "codemirror_mode": {
    "name": "ipython",
    "version": 3
   },
   "file_extension": ".py",
   "mimetype": "text/x-python",
   "name": "python",
   "nbconvert_exporter": "python",
   "pygments_lexer": "ipython3",
   "version": "3.8.5"
  }
 },
 "nbformat": 4,
 "nbformat_minor": 1
}

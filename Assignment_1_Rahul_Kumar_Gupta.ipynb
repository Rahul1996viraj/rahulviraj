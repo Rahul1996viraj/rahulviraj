{
 "cells": [
  {
   "cell_type": "code",
   "execution_count": 10,
   "metadata": {},
   "outputs": [
    {
     "name": "stdout",
     "output_type": "stream",
     "text": [
      "7 is a prime number\n"
     ]
    }
   ],
   "source": [
    "'''Creating prime numbers and,\n",
    "Checking if a number is a prime number or not.'''\n",
    "\n",
    "#create a number\n",
    "\n",
    "num = 7 #let go with 7(where u can use other num like 2,4,5,6,7,9,11,13,15....)\n",
    " \n",
    "# If number is greater than 1\n",
    "if num > 1:\n",
    " \n",
    "    # run agin from 2 to n / 2\n",
    "    for i in range(2, int(num/2)+1):  # If num is divisible by any number between# 2, it is not prime\n",
    "        if (num % i) == 0:\n",
    "            print(num, \"is not a prime number\")\n",
    "            break\n",
    "    else:\n",
    "        print(num, \"is a prime number\")\n",
    " \n",
    "else:\n",
    "    print(num, \"is not a prime number\")"
   ]
  },
  {
   "cell_type": "code",
   "execution_count": null,
   "metadata": {},
   "outputs": [],
   "source": []
  }
 ],
 "metadata": {
  "kernelspec": {
   "display_name": "Python 3",
   "language": "python",
   "name": "python3"
  },
  "language_info": {
   "codemirror_mode": {
    "name": "ipython",
    "version": 3
   },
   "file_extension": ".py",
   "mimetype": "text/x-python",
   "name": "python",
   "nbconvert_exporter": "python",
   "pygments_lexer": "ipython3",
   "version": "3.8.5"
  }
 },
 "nbformat": 4,
 "nbformat_minor": 4
}
